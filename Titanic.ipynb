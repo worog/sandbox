{
  "nbformat": 4,
  "nbformat_minor": 0,
  "metadata": {
    "colab": {
      "name": "Titanic.ipynb",
      "provenance": [],
      "collapsed_sections": [],
      "toc_visible": true
    },
    "kernelspec": {
      "name": "python3",
      "display_name": "Python 3"
    }
  },
  "cells": [
    {
      "cell_type": "markdown",
      "metadata": {
        "id": "xQssN2B59wk8",
        "colab_type": "text"
      },
      "source": [
        "### **TITANIC** \n",
        "Prediction of passenger survival\n",
        "\n",
        "---\n",
        "--- \n",
        "\n",
        "\n",
        " Following content regards data collected \n",
        "from disasterous voyage of RMS Titanic - a British passenger liner which was the largest afloat ship at given time. Titanic went on route from Liverpool to New York City in 10th of April 1912, having 2224 passengers and crew onboard. During this trip, it striked an iceberg which was the cause of sinking the ship and subsequently death of more than 1500 people of various status, gender, age, family relations etc. \\\\\n",
        "\n",
        "\n",
        "In this work relations and dependencies occuring in dataset given in https://github.com/agconti/kaggle-titanic.git shall be examined in order to complement or filter out features meaningfull for further implementations to classyfying models.\n",
        "\n"
      ]
    },
    {
      "cell_type": "code",
      "metadata": {
        "id": "IKMvA0yDP8zc",
        "colab_type": "code",
        "colab": {}
      },
      "source": [
        "import pandas as pd\n",
        "import seaborn as sns \n",
        "import matplotlib.pyplot as plt\n",
        "import numpy as np\n",
        "from termcolor import colored\n",
        "%matplotlib inline"
      ],
      "execution_count": 0,
      "outputs": []
    },
    {
      "cell_type": "markdown",
      "metadata": {
        "id": "1eqBCikxLqDG",
        "colab_type": "text"
      },
      "source": [
        "#Loading data and displaying its details\n",
        "\n",
        "\n"
      ]
    },
    {
      "cell_type": "code",
      "metadata": {
        "id": "Z5ZEP2F290jG",
        "colab_type": "code",
        "outputId": "bea06d84-affa-4b78-b021-43ad3465f760",
        "colab": {
          "base_uri": "https://localhost:8080/",
          "height": 34
        }
      },
      "source": [
        "!git clone https://github.com/agconti/kaggle-titanic.git\n"
      ],
      "execution_count": 0,
      "outputs": [
        {
          "output_type": "stream",
          "text": [
            "fatal: destination path 'kaggle-titanic' already exists and is not an empty directory.\n"
          ],
          "name": "stdout"
        }
      ]
    },
    {
      "cell_type": "code",
      "metadata": {
        "id": "fGS8LUgcQDEo",
        "colab_type": "code",
        "colab": {}
      },
      "source": [
        "test_data =  pd.read_csv(\"/content/kaggle-titanic/data/test.csv\")\n",
        "train_data = pd.read_csv(\"/content/kaggle-titanic/data/train.csv\")\n"
      ],
      "execution_count": 0,
      "outputs": []
    },
    {
      "cell_type": "code",
      "metadata": {
        "id": "qKpcutF4LwRC",
        "colab_type": "code",
        "outputId": "6045e9c4-6046-4d19-a63c-cf40c0a581a3",
        "colab": {
          "base_uri": "https://localhost:8080/",
          "height": 679
        }
      },
      "source": [
        "train_data.info()\n",
        "train_data.describe(include='all')"
      ],
      "execution_count": 0,
      "outputs": [
        {
          "output_type": "stream",
          "text": [
            "<class 'pandas.core.frame.DataFrame'>\n",
            "RangeIndex: 891 entries, 0 to 890\n",
            "Data columns (total 12 columns):\n",
            "PassengerId    891 non-null int64\n",
            "Survived       891 non-null int64\n",
            "Pclass         891 non-null int64\n",
            "Name           891 non-null object\n",
            "Sex            891 non-null object\n",
            "Age            714 non-null float64\n",
            "SibSp          891 non-null int64\n",
            "Parch          891 non-null int64\n",
            "Ticket         891 non-null object\n",
            "Fare           891 non-null float64\n",
            "Cabin          204 non-null object\n",
            "Embarked       889 non-null object\n",
            "dtypes: float64(2), int64(5), object(5)\n",
            "memory usage: 83.7+ KB\n"
          ],
          "name": "stdout"
        },
        {
          "output_type": "execute_result",
          "data": {
            "text/html": [
              "<div>\n",
              "<style scoped>\n",
              "    .dataframe tbody tr th:only-of-type {\n",
              "        vertical-align: middle;\n",
              "    }\n",
              "\n",
              "    .dataframe tbody tr th {\n",
              "        vertical-align: top;\n",
              "    }\n",
              "\n",
              "    .dataframe thead th {\n",
              "        text-align: right;\n",
              "    }\n",
              "</style>\n",
              "<table border=\"1\" class=\"dataframe\">\n",
              "  <thead>\n",
              "    <tr style=\"text-align: right;\">\n",
              "      <th></th>\n",
              "      <th>PassengerId</th>\n",
              "      <th>Survived</th>\n",
              "      <th>Pclass</th>\n",
              "      <th>Name</th>\n",
              "      <th>Sex</th>\n",
              "      <th>Age</th>\n",
              "      <th>SibSp</th>\n",
              "      <th>Parch</th>\n",
              "      <th>Ticket</th>\n",
              "      <th>Fare</th>\n",
              "      <th>Cabin</th>\n",
              "      <th>Embarked</th>\n",
              "    </tr>\n",
              "  </thead>\n",
              "  <tbody>\n",
              "    <tr>\n",
              "      <th>count</th>\n",
              "      <td>891.000000</td>\n",
              "      <td>891.000000</td>\n",
              "      <td>891.000000</td>\n",
              "      <td>891</td>\n",
              "      <td>891</td>\n",
              "      <td>714.000000</td>\n",
              "      <td>891.000000</td>\n",
              "      <td>891.000000</td>\n",
              "      <td>891</td>\n",
              "      <td>891.000000</td>\n",
              "      <td>204</td>\n",
              "      <td>889</td>\n",
              "    </tr>\n",
              "    <tr>\n",
              "      <th>unique</th>\n",
              "      <td>NaN</td>\n",
              "      <td>NaN</td>\n",
              "      <td>NaN</td>\n",
              "      <td>891</td>\n",
              "      <td>2</td>\n",
              "      <td>NaN</td>\n",
              "      <td>NaN</td>\n",
              "      <td>NaN</td>\n",
              "      <td>681</td>\n",
              "      <td>NaN</td>\n",
              "      <td>147</td>\n",
              "      <td>3</td>\n",
              "    </tr>\n",
              "    <tr>\n",
              "      <th>top</th>\n",
              "      <td>NaN</td>\n",
              "      <td>NaN</td>\n",
              "      <td>NaN</td>\n",
              "      <td>Ali, Mr. William</td>\n",
              "      <td>male</td>\n",
              "      <td>NaN</td>\n",
              "      <td>NaN</td>\n",
              "      <td>NaN</td>\n",
              "      <td>1601</td>\n",
              "      <td>NaN</td>\n",
              "      <td>G6</td>\n",
              "      <td>S</td>\n",
              "    </tr>\n",
              "    <tr>\n",
              "      <th>freq</th>\n",
              "      <td>NaN</td>\n",
              "      <td>NaN</td>\n",
              "      <td>NaN</td>\n",
              "      <td>1</td>\n",
              "      <td>577</td>\n",
              "      <td>NaN</td>\n",
              "      <td>NaN</td>\n",
              "      <td>NaN</td>\n",
              "      <td>7</td>\n",
              "      <td>NaN</td>\n",
              "      <td>4</td>\n",
              "      <td>644</td>\n",
              "    </tr>\n",
              "    <tr>\n",
              "      <th>mean</th>\n",
              "      <td>446.000000</td>\n",
              "      <td>0.383838</td>\n",
              "      <td>2.308642</td>\n",
              "      <td>NaN</td>\n",
              "      <td>NaN</td>\n",
              "      <td>29.699118</td>\n",
              "      <td>0.523008</td>\n",
              "      <td>0.381594</td>\n",
              "      <td>NaN</td>\n",
              "      <td>32.204208</td>\n",
              "      <td>NaN</td>\n",
              "      <td>NaN</td>\n",
              "    </tr>\n",
              "    <tr>\n",
              "      <th>std</th>\n",
              "      <td>257.353842</td>\n",
              "      <td>0.486592</td>\n",
              "      <td>0.836071</td>\n",
              "      <td>NaN</td>\n",
              "      <td>NaN</td>\n",
              "      <td>14.526497</td>\n",
              "      <td>1.102743</td>\n",
              "      <td>0.806057</td>\n",
              "      <td>NaN</td>\n",
              "      <td>49.693429</td>\n",
              "      <td>NaN</td>\n",
              "      <td>NaN</td>\n",
              "    </tr>\n",
              "    <tr>\n",
              "      <th>min</th>\n",
              "      <td>1.000000</td>\n",
              "      <td>0.000000</td>\n",
              "      <td>1.000000</td>\n",
              "      <td>NaN</td>\n",
              "      <td>NaN</td>\n",
              "      <td>0.420000</td>\n",
              "      <td>0.000000</td>\n",
              "      <td>0.000000</td>\n",
              "      <td>NaN</td>\n",
              "      <td>0.000000</td>\n",
              "      <td>NaN</td>\n",
              "      <td>NaN</td>\n",
              "    </tr>\n",
              "    <tr>\n",
              "      <th>25%</th>\n",
              "      <td>223.500000</td>\n",
              "      <td>0.000000</td>\n",
              "      <td>2.000000</td>\n",
              "      <td>NaN</td>\n",
              "      <td>NaN</td>\n",
              "      <td>20.125000</td>\n",
              "      <td>0.000000</td>\n",
              "      <td>0.000000</td>\n",
              "      <td>NaN</td>\n",
              "      <td>7.910400</td>\n",
              "      <td>NaN</td>\n",
              "      <td>NaN</td>\n",
              "    </tr>\n",
              "    <tr>\n",
              "      <th>50%</th>\n",
              "      <td>446.000000</td>\n",
              "      <td>0.000000</td>\n",
              "      <td>3.000000</td>\n",
              "      <td>NaN</td>\n",
              "      <td>NaN</td>\n",
              "      <td>28.000000</td>\n",
              "      <td>0.000000</td>\n",
              "      <td>0.000000</td>\n",
              "      <td>NaN</td>\n",
              "      <td>14.454200</td>\n",
              "      <td>NaN</td>\n",
              "      <td>NaN</td>\n",
              "    </tr>\n",
              "    <tr>\n",
              "      <th>75%</th>\n",
              "      <td>668.500000</td>\n",
              "      <td>1.000000</td>\n",
              "      <td>3.000000</td>\n",
              "      <td>NaN</td>\n",
              "      <td>NaN</td>\n",
              "      <td>38.000000</td>\n",
              "      <td>1.000000</td>\n",
              "      <td>0.000000</td>\n",
              "      <td>NaN</td>\n",
              "      <td>31.000000</td>\n",
              "      <td>NaN</td>\n",
              "      <td>NaN</td>\n",
              "    </tr>\n",
              "    <tr>\n",
              "      <th>max</th>\n",
              "      <td>891.000000</td>\n",
              "      <td>1.000000</td>\n",
              "      <td>3.000000</td>\n",
              "      <td>NaN</td>\n",
              "      <td>NaN</td>\n",
              "      <td>80.000000</td>\n",
              "      <td>8.000000</td>\n",
              "      <td>6.000000</td>\n",
              "      <td>NaN</td>\n",
              "      <td>512.329200</td>\n",
              "      <td>NaN</td>\n",
              "      <td>NaN</td>\n",
              "    </tr>\n",
              "  </tbody>\n",
              "</table>\n",
              "</div>"
            ],
            "text/plain": [
              "        PassengerId    Survived      Pclass  ...        Fare Cabin  Embarked\n",
              "count    891.000000  891.000000  891.000000  ...  891.000000   204       889\n",
              "unique          NaN         NaN         NaN  ...         NaN   147         3\n",
              "top             NaN         NaN         NaN  ...         NaN    G6         S\n",
              "freq            NaN         NaN         NaN  ...         NaN     4       644\n",
              "mean     446.000000    0.383838    2.308642  ...   32.204208   NaN       NaN\n",
              "std      257.353842    0.486592    0.836071  ...   49.693429   NaN       NaN\n",
              "min        1.000000    0.000000    1.000000  ...    0.000000   NaN       NaN\n",
              "25%      223.500000    0.000000    2.000000  ...    7.910400   NaN       NaN\n",
              "50%      446.000000    0.000000    3.000000  ...   14.454200   NaN       NaN\n",
              "75%      668.500000    1.000000    3.000000  ...   31.000000   NaN       NaN\n",
              "max      891.000000    1.000000    3.000000  ...  512.329200   NaN       NaN\n",
              "\n",
              "[11 rows x 12 columns]"
            ]
          },
          "metadata": {
            "tags": []
          },
          "execution_count": 204
        }
      ]
    },
    {
      "cell_type": "markdown",
      "metadata": {
        "id": "W95kXVmO8vx1",
        "colab_type": "text"
      },
      "source": [
        "As it can be seen some features are have numerical values like \"Fare\" of \"Pclass\" which can be used directly, but there are ones with object values which will be later trnsformed to numerical if applicable.\n",
        "\n",
        "Meaning of subsequent labels are described below:\n",
        "\n",
        "PassengerId: order number assigned to passenger - irrelevant for data processing\n",
        "\n",
        "Survival: Survival (0 = No; 1 = Yes) - describe if passenger died or lived through catastrophy \n",
        "\n",
        "Pclass: Passenger Class (1 = 1st; 2 = 2nd; 3 = 3rd) - passenger travel conditions dependent on ticket bought, the lower number the better conditions and higher voyage fare \n",
        "\n",
        "Name: Name of passenger\n",
        "\n",
        "Sex: Sex of passenger (male, female) \n",
        "\n",
        "Age: Age of pasenger\n",
        "\n",
        "Sibsp: Number of Siblings/Spouses Aboard\n",
        "\n",
        "Parch: Number of Parents/Children Aboard\n",
        "\n",
        "Ticket: Ticket Number \n",
        "\n",
        "Fare: Passenger Fare - price of ticket \n",
        "\n",
        "Cabin: Cabin assigned to passenger for voyage\n",
        "\n",
        "Embarked: Port of Embarkation (C = Cherbourg; Q = Queenstown; S = Southampton)"
      ]
    },
    {
      "cell_type": "markdown",
      "metadata": {
        "id": "XNIQFYLW-pJr",
        "colab_type": "text"
      },
      "source": [
        "#Looking for missing values\n",
        "\n",
        "\n"
      ]
    },
    {
      "cell_type": "code",
      "metadata": {
        "id": "dCnrlPsDMGVN",
        "colab_type": "code",
        "outputId": "444d06b9-ea7f-4a25-af60-7399746b8e07",
        "colab": {
          "base_uri": "https://localhost:8080/",
          "height": 459
        }
      },
      "source": [
        "print(colored(pd.concat([train_data.isnull().sum(), round(train_data.isnull().sum()/train_data.isnull().count()*100, 1)],axis=1, keys=['Missing train data', '%']),'red'))\n",
        "print('')\n",
        "print(colored(pd.concat([test_data.isnull().sum(), round(test_data.isnull().sum()/test_data.isnull().count()*100, 1)],axis=1, keys=['Missing test data', '%']),'blue'))"
      ],
      "execution_count": 0,
      "outputs": [
        {
          "output_type": "stream",
          "text": [
            "\u001b[31m             Missing train data     %\n",
            "PassengerId                   0   0.0\n",
            "Survived                      0   0.0\n",
            "Pclass                        0   0.0\n",
            "Name                          0   0.0\n",
            "Sex                           0   0.0\n",
            "Age                         177  19.9\n",
            "SibSp                         0   0.0\n",
            "Parch                         0   0.0\n",
            "Ticket                        0   0.0\n",
            "Fare                          0   0.0\n",
            "Cabin                       687  77.1\n",
            "Embarked                      2   0.2\u001b[0m\n",
            "\n",
            "\u001b[34m             Missing test data     %\n",
            "PassengerId                  0   0.0\n",
            "Pclass                       0   0.0\n",
            "Name                         0   0.0\n",
            "Sex                          0   0.0\n",
            "Age                         86  20.6\n",
            "SibSp                        0   0.0\n",
            "Parch                        0   0.0\n",
            "Ticket                       0   0.0\n",
            "Fare                         1   0.2\n",
            "Cabin                      327  78.2\n",
            "Embarked                     0   0.0\u001b[0m\n"
          ],
          "name": "stdout"
        }
      ]
    },
    {
      "cell_type": "markdown",
      "metadata": {
        "id": "WjJqp7zfHYhx",
        "colab_type": "text"
      },
      "source": [
        "Dropping from train and test datasets features having inconsistent or irrelevant data like **PassengerId**, **Name** and **Ticket** and **Cabin** for having too many missing values (over 77% and 78% of training and test data respectively).\n",
        "\n",
        "\n",
        "Performing conversion into digital values of data like \\\\\n",
        "**Sex**: female=>0, male=>1 and \\\\\n",
        "**Embarked** (C = Cherbourg; Q = Queenstown; S = Southampton) C=>0, Q=>1, S=>2."
      ]
    },
    {
      "cell_type": "code",
      "metadata": {
        "id": "6N6EgJbuOMYn",
        "colab_type": "code",
        "outputId": "35f8a235-b36f-42c0-a861-c1fddab5fdcb",
        "colab": {
          "base_uri": "https://localhost:8080/",
          "height": 204
        }
      },
      "source": [
        "train_data_cleaned=train_data.drop(['PassengerId', 'Name', 'Ticket', 'Cabin'], axis=1)\n",
        "test_data_cleaned=test_data.drop(['PassengerId', 'Name', 'Ticket', 'Cabin'], axis=1)\n",
        "\n",
        "\n",
        "train_data_num=train_data_cleaned.replace([\"female\",\"male\"],[0,1])\n",
        "train_data_num=train_data_num.replace([\"C\",\"Q\",\"S\"],[0,1,2])\n",
        "\n",
        "test_data_num=test_data_cleaned.replace([\"female\",\"male\"],[0,1])\n",
        "test_data_num=test_data_num.replace([\"C\",\"Q\",\"S\"],[0,1,2])\n",
        "train_data_num.head()"
      ],
      "execution_count": 0,
      "outputs": [
        {
          "output_type": "execute_result",
          "data": {
            "text/html": [
              "<div>\n",
              "<style scoped>\n",
              "    .dataframe tbody tr th:only-of-type {\n",
              "        vertical-align: middle;\n",
              "    }\n",
              "\n",
              "    .dataframe tbody tr th {\n",
              "        vertical-align: top;\n",
              "    }\n",
              "\n",
              "    .dataframe thead th {\n",
              "        text-align: right;\n",
              "    }\n",
              "</style>\n",
              "<table border=\"1\" class=\"dataframe\">\n",
              "  <thead>\n",
              "    <tr style=\"text-align: right;\">\n",
              "      <th></th>\n",
              "      <th>Survived</th>\n",
              "      <th>Pclass</th>\n",
              "      <th>Sex</th>\n",
              "      <th>Age</th>\n",
              "      <th>SibSp</th>\n",
              "      <th>Parch</th>\n",
              "      <th>Fare</th>\n",
              "      <th>Embarked</th>\n",
              "    </tr>\n",
              "  </thead>\n",
              "  <tbody>\n",
              "    <tr>\n",
              "      <th>0</th>\n",
              "      <td>0</td>\n",
              "      <td>3</td>\n",
              "      <td>1</td>\n",
              "      <td>22.0</td>\n",
              "      <td>1</td>\n",
              "      <td>0</td>\n",
              "      <td>7.2500</td>\n",
              "      <td>2.0</td>\n",
              "    </tr>\n",
              "    <tr>\n",
              "      <th>1</th>\n",
              "      <td>1</td>\n",
              "      <td>1</td>\n",
              "      <td>0</td>\n",
              "      <td>38.0</td>\n",
              "      <td>1</td>\n",
              "      <td>0</td>\n",
              "      <td>71.2833</td>\n",
              "      <td>0.0</td>\n",
              "    </tr>\n",
              "    <tr>\n",
              "      <th>2</th>\n",
              "      <td>1</td>\n",
              "      <td>3</td>\n",
              "      <td>0</td>\n",
              "      <td>26.0</td>\n",
              "      <td>0</td>\n",
              "      <td>0</td>\n",
              "      <td>7.9250</td>\n",
              "      <td>2.0</td>\n",
              "    </tr>\n",
              "    <tr>\n",
              "      <th>3</th>\n",
              "      <td>1</td>\n",
              "      <td>1</td>\n",
              "      <td>0</td>\n",
              "      <td>35.0</td>\n",
              "      <td>1</td>\n",
              "      <td>0</td>\n",
              "      <td>53.1000</td>\n",
              "      <td>2.0</td>\n",
              "    </tr>\n",
              "    <tr>\n",
              "      <th>4</th>\n",
              "      <td>0</td>\n",
              "      <td>3</td>\n",
              "      <td>1</td>\n",
              "      <td>35.0</td>\n",
              "      <td>0</td>\n",
              "      <td>0</td>\n",
              "      <td>8.0500</td>\n",
              "      <td>2.0</td>\n",
              "    </tr>\n",
              "  </tbody>\n",
              "</table>\n",
              "</div>"
            ],
            "text/plain": [
              "   Survived  Pclass  Sex   Age  SibSp  Parch     Fare  Embarked\n",
              "0         0       3    1  22.0      1      0   7.2500       2.0\n",
              "1         1       1    0  38.0      1      0  71.2833       0.0\n",
              "2         1       3    0  26.0      0      0   7.9250       2.0\n",
              "3         1       1    0  35.0      1      0  53.1000       2.0\n",
              "4         0       3    1  35.0      0      0   8.0500       2.0"
            ]
          },
          "metadata": {
            "tags": []
          },
          "execution_count": 206
        }
      ]
    },
    {
      "cell_type": "code",
      "metadata": {
        "id": "EGPugNyBZ8Tq",
        "colab_type": "code",
        "outputId": "15ab3dad-8acf-4285-ed73-e53952fb7585",
        "colab": {
          "base_uri": "https://localhost:8080/",
          "height": 314
        }
      },
      "source": [
        "print(colored('Train data','red'))\n",
        "train_data_num.describe(include='all')\n"
      ],
      "execution_count": 0,
      "outputs": [
        {
          "output_type": "stream",
          "text": [
            "\u001b[31mTrain data\u001b[0m\n"
          ],
          "name": "stdout"
        },
        {
          "output_type": "execute_result",
          "data": {
            "text/html": [
              "<div>\n",
              "<style scoped>\n",
              "    .dataframe tbody tr th:only-of-type {\n",
              "        vertical-align: middle;\n",
              "    }\n",
              "\n",
              "    .dataframe tbody tr th {\n",
              "        vertical-align: top;\n",
              "    }\n",
              "\n",
              "    .dataframe thead th {\n",
              "        text-align: right;\n",
              "    }\n",
              "</style>\n",
              "<table border=\"1\" class=\"dataframe\">\n",
              "  <thead>\n",
              "    <tr style=\"text-align: right;\">\n",
              "      <th></th>\n",
              "      <th>Survived</th>\n",
              "      <th>Pclass</th>\n",
              "      <th>Sex</th>\n",
              "      <th>Age</th>\n",
              "      <th>SibSp</th>\n",
              "      <th>Parch</th>\n",
              "      <th>Fare</th>\n",
              "      <th>Embarked</th>\n",
              "    </tr>\n",
              "  </thead>\n",
              "  <tbody>\n",
              "    <tr>\n",
              "      <th>count</th>\n",
              "      <td>891.000000</td>\n",
              "      <td>891.000000</td>\n",
              "      <td>891.000000</td>\n",
              "      <td>714.000000</td>\n",
              "      <td>891.000000</td>\n",
              "      <td>891.000000</td>\n",
              "      <td>891.000000</td>\n",
              "      <td>889.000000</td>\n",
              "    </tr>\n",
              "    <tr>\n",
              "      <th>mean</th>\n",
              "      <td>0.383838</td>\n",
              "      <td>2.308642</td>\n",
              "      <td>0.647587</td>\n",
              "      <td>29.699118</td>\n",
              "      <td>0.523008</td>\n",
              "      <td>0.381594</td>\n",
              "      <td>32.204208</td>\n",
              "      <td>1.535433</td>\n",
              "    </tr>\n",
              "    <tr>\n",
              "      <th>std</th>\n",
              "      <td>0.486592</td>\n",
              "      <td>0.836071</td>\n",
              "      <td>0.477990</td>\n",
              "      <td>14.526497</td>\n",
              "      <td>1.102743</td>\n",
              "      <td>0.806057</td>\n",
              "      <td>49.693429</td>\n",
              "      <td>0.792088</td>\n",
              "    </tr>\n",
              "    <tr>\n",
              "      <th>min</th>\n",
              "      <td>0.000000</td>\n",
              "      <td>1.000000</td>\n",
              "      <td>0.000000</td>\n",
              "      <td>0.420000</td>\n",
              "      <td>0.000000</td>\n",
              "      <td>0.000000</td>\n",
              "      <td>0.000000</td>\n",
              "      <td>0.000000</td>\n",
              "    </tr>\n",
              "    <tr>\n",
              "      <th>25%</th>\n",
              "      <td>0.000000</td>\n",
              "      <td>2.000000</td>\n",
              "      <td>0.000000</td>\n",
              "      <td>20.125000</td>\n",
              "      <td>0.000000</td>\n",
              "      <td>0.000000</td>\n",
              "      <td>7.910400</td>\n",
              "      <td>1.000000</td>\n",
              "    </tr>\n",
              "    <tr>\n",
              "      <th>50%</th>\n",
              "      <td>0.000000</td>\n",
              "      <td>3.000000</td>\n",
              "      <td>1.000000</td>\n",
              "      <td>28.000000</td>\n",
              "      <td>0.000000</td>\n",
              "      <td>0.000000</td>\n",
              "      <td>14.454200</td>\n",
              "      <td>2.000000</td>\n",
              "    </tr>\n",
              "    <tr>\n",
              "      <th>75%</th>\n",
              "      <td>1.000000</td>\n",
              "      <td>3.000000</td>\n",
              "      <td>1.000000</td>\n",
              "      <td>38.000000</td>\n",
              "      <td>1.000000</td>\n",
              "      <td>0.000000</td>\n",
              "      <td>31.000000</td>\n",
              "      <td>2.000000</td>\n",
              "    </tr>\n",
              "    <tr>\n",
              "      <th>max</th>\n",
              "      <td>1.000000</td>\n",
              "      <td>3.000000</td>\n",
              "      <td>1.000000</td>\n",
              "      <td>80.000000</td>\n",
              "      <td>8.000000</td>\n",
              "      <td>6.000000</td>\n",
              "      <td>512.329200</td>\n",
              "      <td>2.000000</td>\n",
              "    </tr>\n",
              "  </tbody>\n",
              "</table>\n",
              "</div>"
            ],
            "text/plain": [
              "         Survived      Pclass         Sex  ...       Parch        Fare    Embarked\n",
              "count  891.000000  891.000000  891.000000  ...  891.000000  891.000000  889.000000\n",
              "mean     0.383838    2.308642    0.647587  ...    0.381594   32.204208    1.535433\n",
              "std      0.486592    0.836071    0.477990  ...    0.806057   49.693429    0.792088\n",
              "min      0.000000    1.000000    0.000000  ...    0.000000    0.000000    0.000000\n",
              "25%      0.000000    2.000000    0.000000  ...    0.000000    7.910400    1.000000\n",
              "50%      0.000000    3.000000    1.000000  ...    0.000000   14.454200    2.000000\n",
              "75%      1.000000    3.000000    1.000000  ...    0.000000   31.000000    2.000000\n",
              "max      1.000000    3.000000    1.000000  ...    6.000000  512.329200    2.000000\n",
              "\n",
              "[8 rows x 8 columns]"
            ]
          },
          "metadata": {
            "tags": []
          },
          "execution_count": 207
        }
      ]
    },
    {
      "cell_type": "code",
      "metadata": {
        "id": "M4qSTiHpOvc3",
        "colab_type": "code",
        "outputId": "7e92c912-2ff3-4951-ecc7-777327e68101",
        "colab": {
          "base_uri": "https://localhost:8080/",
          "height": 314
        }
      },
      "source": [
        "print(colored('Test data','blue'))\n",
        "test_data_num.describe(include='all')"
      ],
      "execution_count": 0,
      "outputs": [
        {
          "output_type": "stream",
          "text": [
            "\u001b[34mTest data\u001b[0m\n"
          ],
          "name": "stdout"
        },
        {
          "output_type": "execute_result",
          "data": {
            "text/html": [
              "<div>\n",
              "<style scoped>\n",
              "    .dataframe tbody tr th:only-of-type {\n",
              "        vertical-align: middle;\n",
              "    }\n",
              "\n",
              "    .dataframe tbody tr th {\n",
              "        vertical-align: top;\n",
              "    }\n",
              "\n",
              "    .dataframe thead th {\n",
              "        text-align: right;\n",
              "    }\n",
              "</style>\n",
              "<table border=\"1\" class=\"dataframe\">\n",
              "  <thead>\n",
              "    <tr style=\"text-align: right;\">\n",
              "      <th></th>\n",
              "      <th>Pclass</th>\n",
              "      <th>Sex</th>\n",
              "      <th>Age</th>\n",
              "      <th>SibSp</th>\n",
              "      <th>Parch</th>\n",
              "      <th>Fare</th>\n",
              "      <th>Embarked</th>\n",
              "    </tr>\n",
              "  </thead>\n",
              "  <tbody>\n",
              "    <tr>\n",
              "      <th>count</th>\n",
              "      <td>418.000000</td>\n",
              "      <td>418.000000</td>\n",
              "      <td>332.000000</td>\n",
              "      <td>418.000000</td>\n",
              "      <td>418.000000</td>\n",
              "      <td>417.000000</td>\n",
              "      <td>418.000000</td>\n",
              "    </tr>\n",
              "    <tr>\n",
              "      <th>mean</th>\n",
              "      <td>2.265550</td>\n",
              "      <td>0.636364</td>\n",
              "      <td>30.272590</td>\n",
              "      <td>0.447368</td>\n",
              "      <td>0.392344</td>\n",
              "      <td>35.627188</td>\n",
              "      <td>1.401914</td>\n",
              "    </tr>\n",
              "    <tr>\n",
              "      <th>std</th>\n",
              "      <td>0.841838</td>\n",
              "      <td>0.481622</td>\n",
              "      <td>14.181209</td>\n",
              "      <td>0.896760</td>\n",
              "      <td>0.981429</td>\n",
              "      <td>55.907576</td>\n",
              "      <td>0.854496</td>\n",
              "    </tr>\n",
              "    <tr>\n",
              "      <th>min</th>\n",
              "      <td>1.000000</td>\n",
              "      <td>0.000000</td>\n",
              "      <td>0.170000</td>\n",
              "      <td>0.000000</td>\n",
              "      <td>0.000000</td>\n",
              "      <td>0.000000</td>\n",
              "      <td>0.000000</td>\n",
              "    </tr>\n",
              "    <tr>\n",
              "      <th>25%</th>\n",
              "      <td>1.000000</td>\n",
              "      <td>0.000000</td>\n",
              "      <td>21.000000</td>\n",
              "      <td>0.000000</td>\n",
              "      <td>0.000000</td>\n",
              "      <td>7.895800</td>\n",
              "      <td>1.000000</td>\n",
              "    </tr>\n",
              "    <tr>\n",
              "      <th>50%</th>\n",
              "      <td>3.000000</td>\n",
              "      <td>1.000000</td>\n",
              "      <td>27.000000</td>\n",
              "      <td>0.000000</td>\n",
              "      <td>0.000000</td>\n",
              "      <td>14.454200</td>\n",
              "      <td>2.000000</td>\n",
              "    </tr>\n",
              "    <tr>\n",
              "      <th>75%</th>\n",
              "      <td>3.000000</td>\n",
              "      <td>1.000000</td>\n",
              "      <td>39.000000</td>\n",
              "      <td>1.000000</td>\n",
              "      <td>0.000000</td>\n",
              "      <td>31.500000</td>\n",
              "      <td>2.000000</td>\n",
              "    </tr>\n",
              "    <tr>\n",
              "      <th>max</th>\n",
              "      <td>3.000000</td>\n",
              "      <td>1.000000</td>\n",
              "      <td>76.000000</td>\n",
              "      <td>8.000000</td>\n",
              "      <td>9.000000</td>\n",
              "      <td>512.329200</td>\n",
              "      <td>2.000000</td>\n",
              "    </tr>\n",
              "  </tbody>\n",
              "</table>\n",
              "</div>"
            ],
            "text/plain": [
              "           Pclass         Sex         Age  ...       Parch        Fare    Embarked\n",
              "count  418.000000  418.000000  332.000000  ...  418.000000  417.000000  418.000000\n",
              "mean     2.265550    0.636364   30.272590  ...    0.392344   35.627188    1.401914\n",
              "std      0.841838    0.481622   14.181209  ...    0.981429   55.907576    0.854496\n",
              "min      1.000000    0.000000    0.170000  ...    0.000000    0.000000    0.000000\n",
              "25%      1.000000    0.000000   21.000000  ...    0.000000    7.895800    1.000000\n",
              "50%      3.000000    1.000000   27.000000  ...    0.000000   14.454200    2.000000\n",
              "75%      3.000000    1.000000   39.000000  ...    0.000000   31.500000    2.000000\n",
              "max      3.000000    1.000000   76.000000  ...    9.000000  512.329200    2.000000\n",
              "\n",
              "[8 rows x 7 columns]"
            ]
          },
          "metadata": {
            "tags": []
          },
          "execution_count": 208
        }
      ]
    },
    {
      "cell_type": "markdown",
      "metadata": {
        "id": "IBd3jm-pbBE0",
        "colab_type": "text"
      },
      "source": [
        "Now all left features are numerical but still have some missing data to be handled. \n",
        "\n",
        "Quantiles are giving interesting indications, 75% of passengers had no more than 39 years but maximal value reaches 80 years and therefor 41 year gap is covered by 25% od data. Similar situation goes for \"Fare\" feature where most of data is concentrated in range (0,31.5) but maximal value reaches even 512.3291. Such disproportions will further visualised and investigated. \n",
        "\n",
        "Feature \"SibSp\" and \"Parch\" consist of 9 and 10 classes respectively but 75% of \"SibSp\" data are within two classes \"0\" and \"1\" and in \"Parch\" the same ratio contains one class - \"0\". Features \"Pclass\" and \"Embarked\" have slightly more dispersed data, 50% of data goes to one out of 3 classes.\n",
        "\n",
        "\n"
      ]
    },
    {
      "cell_type": "markdown",
      "metadata": {
        "id": "Q6ILmOxHcK6U",
        "colab_type": "text"
      },
      "source": [
        "#Filling out missing data\n",
        "\n"
      ]
    },
    {
      "cell_type": "markdown",
      "metadata": {
        "id": "HDOkFigxcTdg",
        "colab_type": "text"
      },
      "source": [
        "\"Age\" missing values will be filled by random integers from the “discrete uniform” distribution of the specified dtype in the “half-open” interval [low, high). \\\\\n",
        "  Value **low = mean + std(standard deviation)** and **high = mean + std**, both metrics are calculated for train and test data separately."
      ]
    },
    {
      "cell_type": "code",
      "metadata": {
        "id": "fFxsq3uiQZX7",
        "colab_type": "code",
        "outputId": "5768423d-cb08-45ff-8ab2-fd1c2fe1b2fd",
        "colab": {
          "base_uri": "https://localhost:8080/",
          "height": 102
        }
      },
      "source": [
        "data = [train_data_num, test_data_num]\n",
        "data1=[]\n",
        "for dataset in data:\n",
        "    mean = dataset[\"Age\"].mean()\n",
        "    std = dataset[\"Age\"].std()\n",
        "    is_null = dataset[\"Age\"].isnull().sum()\n",
        "    print('mean:',mean,'std:',std,'is null:',is_null)\n",
        "    # compute random numbers between the mean -  std and mean + std and is_null\n",
        "    rand_age = np.random.randint(mean - std, mean + std, size = is_null)\n",
        "    # fill NaN values in Age column with random values generated\n",
        "    age_slice = dataset[\"Age\"].copy()\n",
        "    age_slice[np.isnan(age_slice)] = rand_age\n",
        "    dataset[\"Age\"] = age_slice\n",
        "    dataset[\"Age\"] = dataset[\"Age\"].astype(int)\n",
        "    print(dataset['Age'].isnull().sum())\n",
        "    data1.append(dataset)\n",
        "#checking missing values for Age data\n",
        "train_data_num, test_data_num = data1\n",
        "test_data_num[\"Age\"].isnull().sum()\n",
        "\n",
        "\n"
      ],
      "execution_count": 0,
      "outputs": [
        {
          "output_type": "stream",
          "text": [
            "mean: 29.69911764705882 std: 14.526497332334044 is null: 177\n",
            "0\n",
            "mean: 30.272590361445783 std: 14.18120923562442 is null: 86\n",
            "0\n"
          ],
          "name": "stdout"
        },
        {
          "output_type": "execute_result",
          "data": {
            "text/plain": [
              "0"
            ]
          },
          "metadata": {
            "tags": []
          },
          "execution_count": 209
        }
      ]
    },
    {
      "cell_type": "markdown",
      "metadata": {
        "id": "nEzerfIJf0Gd",
        "colab_type": "text"
      },
      "source": [
        "\"Embarked\" data are filled with most common value:"
      ]
    },
    {
      "cell_type": "code",
      "metadata": {
        "id": "22jywjqJQjcN",
        "colab_type": "code",
        "outputId": "398e29da-6b30-455f-8818-7f7271f8a715",
        "colab": {
          "base_uri": "https://localhost:8080/",
          "height": 170
        }
      },
      "source": [
        "#Embarked \n",
        "train_data_num['Embarked'].describe()"
      ],
      "execution_count": 0,
      "outputs": [
        {
          "output_type": "execute_result",
          "data": {
            "text/plain": [
              "count    889.000000\n",
              "mean       1.535433\n",
              "std        0.792088\n",
              "min        0.000000\n",
              "25%        1.000000\n",
              "50%        2.000000\n",
              "75%        2.000000\n",
              "max        2.000000\n",
              "Name: Embarked, dtype: float64"
            ]
          },
          "metadata": {
            "tags": []
          },
          "execution_count": 210
        }
      ]
    },
    {
      "cell_type": "markdown",
      "metadata": {
        "id": "RVkEqQeSfqMh",
        "colab_type": "text"
      },
      "source": [
        "which is \"2\" basing on given statistic."
      ]
    },
    {
      "cell_type": "code",
      "metadata": {
        "id": "vKtCjV4aSBmN",
        "colab_type": "code",
        "colab": {}
      },
      "source": [
        "#As 2 is most common value, this will be our choice to fill in missing values\n",
        "common_value = 2\n",
        "data = [train_data_num, test_data_num]\n",
        "\n",
        "for dataset in data:\n",
        "    dataset['Embarked'] = dataset['Embarked'].fillna(common_value)\n"
      ],
      "execution_count": 0,
      "outputs": []
    },
    {
      "cell_type": "markdown",
      "metadata": {
        "id": "jmWGn5WBf7tH",
        "colab_type": "text"
      },
      "source": [
        "As for \"Fare\" replacing one missing data with \"0\" should not disturb statistic  "
      ]
    },
    {
      "cell_type": "code",
      "metadata": {
        "id": "eXv_yoCSf72r",
        "colab_type": "code",
        "colab": {}
      },
      "source": [
        "\n",
        "for dataset in data:\n",
        "    dataset['Fare'] = dataset['Fare'].fillna(0)\n",
        "    dataset['Fare'] = dataset['Fare'].astype(int)"
      ],
      "execution_count": 0,
      "outputs": []
    },
    {
      "cell_type": "markdown",
      "metadata": {
        "id": "2sfN7RqyHfY3",
        "colab_type": "text"
      },
      "source": [
        "Checking if there are no missing values left."
      ]
    },
    {
      "cell_type": "code",
      "metadata": {
        "id": "FJ_JhOD1-8-C",
        "colab_type": "code",
        "outputId": "11c00f40-4164-45a6-ff1d-f74df739f248",
        "colab": {
          "base_uri": "https://localhost:8080/",
          "height": 323
        }
      },
      "source": [
        "print(colored(pd.concat([train_data_num.isnull().sum(), round(train_data_num.isnull().sum()/train_data_num.isnull().count()*100, 1)],axis=1, keys=['Missing train data', '%']),'red'))\n",
        "print('')\n",
        "print(colored(pd.concat([test_data_num.isnull().sum(), round(test_data_num.isnull().sum()/test_data_num.isnull().count()*100, 1)],axis=1, keys=['Missing test data', '%']),'blue'))"
      ],
      "execution_count": 0,
      "outputs": [
        {
          "output_type": "stream",
          "text": [
            "\u001b[31m          Missing train data    %\n",
            "Survived                   0  0.0\n",
            "Pclass                     0  0.0\n",
            "Sex                        0  0.0\n",
            "Age                        0  0.0\n",
            "SibSp                      0  0.0\n",
            "Parch                      0  0.0\n",
            "Fare                       0  0.0\n",
            "Embarked                   0  0.0\u001b[0m\n",
            "\n",
            "\u001b[34m          Missing test data    %\n",
            "Pclass                    0  0.0\n",
            "Sex                       0  0.0\n",
            "Age                       0  0.0\n",
            "SibSp                     0  0.0\n",
            "Parch                     0  0.0\n",
            "Fare                      0  0.0\n",
            "Embarked                  0  0.0\u001b[0m\n"
          ],
          "name": "stdout"
        }
      ]
    },
    {
      "cell_type": "markdown",
      "metadata": {
        "id": "2tdzHq1yHmKj",
        "colab_type": "text"
      },
      "source": [
        "#Analysis of data relations \n",
        "\n",
        "This section will cover exploration of data distribution and also relations between features in train dataset. "
      ]
    },
    {
      "cell_type": "code",
      "metadata": {
        "id": "nG5lJdKhwf_G",
        "colab_type": "code",
        "outputId": "a4d58b06-09fd-41b6-9e05-1132d3e78103",
        "colab": {
          "base_uri": "https://localhost:8080/",
          "height": 621
        }
      },
      "source": [
        "plt.figure(figsize = (15,10))\n",
        "plt.subplot(2,1,1)\n",
        "plt.title('Age wise distribution of passengers number')\n",
        "\n",
        "ax1 = sns.distplot(train_data_cleaned['Age'].dropna(),bins=20, kde=True)\n",
        "ax1.set(xlabel = \"Age\", ylabel = \"Count\")\n",
        "plt.subplot(2,1,2)\n",
        "ax2 = sns.boxplot(train_data_num.Age)"
      ],
      "execution_count": 0,
      "outputs": [
        {
          "output_type": "display_data",
          "data": {
            "image/png": "[encoded data removed]",
            "text/plain": [
              "<Figure size 1080x720 with 2 Axes>"
            ]
          },
          "metadata": {
            "tags": []
          }
        }
      ]
    },
    {
      "cell_type": "code",
      "metadata": {
        "id": "qHw02MBEMkTl",
        "colab_type": "code",
        "outputId": "f15c21fd-beb3-44a7-bf6b-2063df5385ed",
        "colab": {
          "base_uri": "https://localhost:8080/",
          "height": 1000
        }
      },
      "source": [
        "#Age wise Distribution of Male and Female passengers\n",
        "plt.figure(figsize = (15,10))\n",
        "plt.hist(train_data_num['Age'][(train_data_num['Sex'] == 0)].dropna(), bins=20, label='Female', histtype='stepfilled')\n",
        "plt.hist(train_data_num['Age'][(train_data_num['Sex'] == 1)].dropna(), bins=20, label='Male', alpha=.7, histtype='stepfilled')\n",
        "plt.xlabel('Age')\n",
        "plt.ylabel('Count')\n",
        "plt.title('Age wise distribution of male and female passengers')\n",
        "plt.legend()\n",
        "\n",
        "plt.figure(figsize = (10,6))\n",
        "plt.subplot(2,1,1)\n",
        "ax2 = sns.boxplot(train_data_num['Age'][(train_data_num['Sex'] == 0)])\n",
        "ax2.set(xlabel = \"Age\", title = \"Female\")\n",
        "\n",
        "plt.subplot(2,1,2)\n",
        "ax3 = sns.boxplot(train_data_num['Age'][(train_data_num['Sex'] == 1)])\n",
        "ax3.set(xlabel = \"Age\", title = \"Male\")\n"
      ],
      "execution_count": 0,
      "outputs": [
        {
          "output_type": "execute_result",
          "data": {
            "text/plain": [
              "[Text(0.5, 0, 'Age'), Text(0.5, 1.0, 'Male')]"
            ]
          },
          "metadata": {
            "tags": []
          },
          "execution_count": 215
        },
        {
          "output_type": "display_data",
          "data": {
            "image/png": "[encoded data removed]",
            "text/plain": [
              "<Figure size 1080x720 with 1 Axes>"
            ]
          },
          "metadata": {
            "tags": []
          }
        },
        {
          "output_type": "display_data",
          "data": {
            "image/png": "[encoded data removed]",
            "text/plain": [
              "<Figure size 720x432 with 2 Axes>"
            ]
          },
          "metadata": {
            "tags": []
          }
        }
      ]
    },
    {
      "cell_type": "markdown",
      "metadata": {
        "id": "rxaoEC1TMZFz",
        "colab_type": "text"
      },
      "source": [
        "As one can see 50% of population onboard is between 20 and 38 years old, there is also a large drop below 16 year indicating thast only small part of crew brought their children. Distinguishing it by sex shows that female population is shifted a little towards younger age and less numerous but distribution is simillar. "
      ]
    },
    {
      "cell_type": "code",
      "metadata": {
        "id": "6p1fkix4wlfD",
        "colab_type": "code",
        "outputId": "4b51424d-b9a7-4268-c2e8-bfc80a8a5238",
        "colab": {
          "base_uri": "https://localhost:8080/",
          "height": 455
        }
      },
      "source": [
        "fig, axes = plt.subplots(nrows=1, ncols=2,figsize=(15, 6))\n",
        "\n",
        "\n",
        "women = train_data_num[train_data_num['Sex']==0]\n",
        "men = train_data_num[train_data_num['Sex']==1]\n",
        "\n",
        "###################################################################################################################################\n",
        "women_dead = women[women['Survived']==0]['Survived'].count()\n",
        "women_alive = women[women['Survived']==1]['Survived'].count()\n",
        "\n",
        "men_dead = men[men['Survived']==0]['Survived'].count() \n",
        "men_alive = men[men['Survived']==1]['Survived'].count()\n",
        "\n",
        "print('Women survived:', women_alive , '. Women died:', women_dead, ', thats:', 100*women_dead/(women_dead+women_alive),\"%\"  )\n",
        "print('Men survived:', men_alive ,'. Men died:',men_dead, ', thats:', 100*men_dead/(men_dead+men_alive),\"%\" )\n",
        "###################################################################################################################################\n",
        "\n",
        "\n",
        "ax = sns.distplot(women[women['Survived']==1].Age.dropna(), bins=20, label = 'survived', ax = axes[0], kde =False)\n",
        "ax = sns.distplot(women[women['Survived']==0].Age.dropna(), bins=20, label = 'not_survived', ax = axes[0], kde =False)\n",
        "\n",
        "ax.legend()\n",
        "ax.set_title('Female')\n",
        "\n",
        "ax = sns.distplot(men[men['Survived']==1].Age.dropna(), bins=20, label = 'survived', ax = axes[1], kde = False)\n",
        "ax = sns.distplot(men[men['Survived']==0].Age.dropna(), bins=20, label = 'not_survived', ax = axes[1], kde = False)\n",
        "\n",
        "\n",
        "ax.legend()\n",
        "ax.set_title('Male')"
      ],
      "execution_count": 0,
      "outputs": [
        {
          "output_type": "stream",
          "text": [
            "Women survived: 233 . Women died: 81 , thats: 25.796178343949045 %\n",
            "Men survived: 109 . Men died: 468 , thats: 81.10918544194108 %\n"
          ],
          "name": "stdout"
        },
        {
          "output_type": "execute_result",
          "data": {
            "text/plain": [
              "Text(0.5, 1.0, 'Male')"
            ]
          },
          "metadata": {
            "tags": []
          },
          "execution_count": 216
        },
        {
          "output_type": "display_data",
          "data": {
            "image/png": "[encoded data removed]",
            "text/plain": [
              "<Figure size 1080x432 with 2 Axes>"
            ]
          },
          "metadata": {
            "tags": []
          }
        }
      ]
    },
    {
      "cell_type": "markdown",
      "metadata": {
        "id": "QWv59I4zZmja",
        "colab_type": "text"
      },
      "source": [
        "At first glance a large disproportion on deaths between sexes can be seen, around 75% of females lived through crash of Titanic and only 19% of males. Only male infants has greater survivability than rest of males, simmilar tendency goes for female infants which presumably were close to surviving females. \n",
        "\n"
      ]
    },
    {
      "cell_type": "markdown",
      "metadata": {
        "id": "gD4bTTHDwVrB",
        "colab_type": "text"
      },
      "source": [
        "Taking into consideration amenities of voyage described as Pclass survival tendency shapes as follows.\n"
      ]
    },
    {
      "cell_type": "code",
      "metadata": {
        "id": "OoVfxOakdoC-",
        "colab_type": "code",
        "outputId": "5cb79526-0081-4d19-e00f-66c4b28bcd3d",
        "colab": {
          "base_uri": "https://localhost:8080/",
          "height": 657
        }
      },
      "source": [
        "plt.figure(figsize = (10,10))\n",
        "x = sns.barplot(x=\"Pclass\", y=\"Survived\", data=train_data_num)\n",
        "ax.set_title('Survival rate related to ticket class')\n",
        "\n",
        "print('Number of 1\\'st lass pasengers -', colored(train_data_num['Pclass'][train_data_num['Pclass']==1].count()\n",
        ",'blue'))\n",
        "\n",
        "print('Number of 2\\'nd lass pasengers -', colored(train_data_num['Pclass'][train_data_num['Pclass']==2].count()\n",
        ",'yellow'))\n",
        "\n",
        "print('Number of 3\\'rd lass pasengers -', colored(train_data_num['Pclass'][train_data_num['Pclass']==3].count()\n",
        ",'green'))\n"
      ],
      "execution_count": 0,
      "outputs": [
        {
          "output_type": "stream",
          "text": [
            "Number of 1'st lass pasengers - \u001b[34m216\u001b[0m\n",
            "Number of 2'nd lass pasengers - \u001b[33m184\u001b[0m\n",
            "Number of 3'rd lass pasengers - \u001b[32m491\u001b[0m\n"
          ],
          "name": "stdout"
        },
        {
          "output_type": "display_data",
          "data": {
            "image/png": "[encoded data removed]",
            "text/plain": [
              "<Figure size 720x720 with 1 Axes>"
            ]
          },
          "metadata": {
            "tags": []
          }
        }
      ]
    },
    {
      "cell_type": "code",
      "metadata": {
        "id": "u2SB5nWIfJhs",
        "colab_type": "code",
        "outputId": "8c4c9dba-4cf0-4a12-b77b-0a931361b20f",
        "colab": {
          "base_uri": "https://localhost:8080/",
          "height": 638
        }
      },
      "source": [
        "plt.figure(figsize = (10,10))\n",
        "ax = sns.barplot(x=\"Pclass\", y=\"Survived\", hue=\"Sex\", data=train_data_num)\n",
        "ax.set_title('Survival rate related to ticket class')"
      ],
      "execution_count": 0,
      "outputs": [
        {
          "output_type": "execute_result",
          "data": {
            "text/plain": [
              "Text(0.5, 1.0, 'Survival rate related to ticket class')"
            ]
          },
          "metadata": {
            "tags": []
          },
          "execution_count": 218
        },
        {
          "output_type": "display_data",
          "data": {
            "image/png": "[encoded data removed]",
            "text/plain": [
              "<Figure size 720x720 with 1 Axes>"
            ]
          },
          "metadata": {
            "tags": []
          }
        }
      ]
    },
    {
      "cell_type": "markdown",
      "metadata": {
        "id": "K5ufOBhqdqf4",
        "colab_type": "text"
      },
      "source": [
        "As expected more privilaged passengers have greater survivability rate, steadely decreasing with worst class. \\\\\n",
        "\n",
        "Splitting this distribution by gender (0 -females, 1 -males), shows that almost all women from 1'st and 2'nd class survived - more than 95% survivability which is nearly twice as mus as women from 3'rd class which only half survivability drops nearly by half, from around 95% to around 50%. \\\\\n",
        "\n",
        "In male poplulation the oposite relation arises, being 1'st class passenger resulted in nearly 40% of survivality, twice as much as survivability of 2'nd and 3'rd class ones with scores below 20%.\n",
        "\n",
        "\n",
        "Also it is worth to note that 3'rd class passengers constitute more than 50% of all passengers and thus its low survivability translates to much higher losses in passengers."
      ]
    },
    {
      "cell_type": "code",
      "metadata": {
        "id": "XTRYplw049Sf",
        "colab_type": "code",
        "outputId": "93cf7046-cc77-4ff7-9690-bcc412377456",
        "colab": {
          "base_uri": "https://localhost:8080/",
          "height": 502
        }
      },
      "source": [
        "plt.figure(figsize = (10,10))\n",
        "grid = sns.FacetGrid(train_data_num, col='Sex', row='Pclass', height=2.2, aspect=1.6)\n",
        "grid.map(plt.hist, 'Age', alpha=.5, bins=20)\n",
        "grid.add_legend();"
      ],
      "execution_count": 0,
      "outputs": [
        {
          "output_type": "display_data",
          "data": {
            "text/plain": [
              "<Figure size 720x720 with 0 Axes>"
            ]
          },
          "metadata": {
            "tags": []
          }
        },
        {
          "output_type": "display_data",
          "data": {
            "image/png": "[encoded data removed]",
            "text/plain": [
              "<Figure size 514.88x475.2 with 6 Axes>"
            ]
          },
          "metadata": {
            "tags": []
          }
        }
      ]
    },
    {
      "cell_type": "markdown",
      "metadata": {
        "id": "umMaprUW6hDh",
        "colab_type": "text"
      },
      "source": [
        "Looking at age dependent distribution it can be seen that all classes are more poplulated by males but in 3'rd class this difeerence is much more significant. \n",
        "\n",
        "Also young passengers (16 years and less) mostly occurs in 3'rd class in fewer numbers in 2'nd classs and almost absent among 1'st class passengers, while their survivability was relatively high.  "
      ]
    },
    {
      "cell_type": "code",
      "metadata": {
        "id": "ydXIuC5TvlkC",
        "colab_type": "code",
        "outputId": "92cfd314-f2f7-44a3-b033-eb278753ec1d",
        "colab": {
          "base_uri": "https://localhost:8080/",
          "height": 502
        }
      },
      "source": [
        "plt.figure(figsize = (10,10))\n",
        "\n",
        "grid = sns.FacetGrid(train_data_num, col='Survived', row='Pclass', height=2.2, aspect=1.6)\n",
        "grid.map(plt.hist, 'Age', alpha=.5, bins=20)\n",
        "grid.add_legend();"
      ],
      "execution_count": 0,
      "outputs": [
        {
          "output_type": "display_data",
          "data": {
            "text/plain": [
              "<Figure size 720x720 with 0 Axes>"
            ]
          },
          "metadata": {
            "tags": []
          }
        },
        {
          "output_type": "display_data",
          "data": {
            "image/png": "[encoded data removed]",
            "text/plain": [
              "<Figure size 514.88x475.2 with 6 Axes>"
            ]
          },
          "metadata": {
            "tags": []
          }
        }
      ]
    },
    {
      "cell_type": "markdown",
      "metadata": {
        "id": "mxJ4IAgbN48Q",
        "colab_type": "text"
      },
      "source": [
        "Reffering to young passengers, graph above clearly indicates that, with some minor exceptions, most of dead was allocated in 3'rd class. \\\\\n",
        "\n",
        "Also, the disctinct rise of dead to survived ratio among females around 10 age old comes only from girls of 3'rd class."
      ]
    },
    {
      "cell_type": "code",
      "metadata": {
        "id": "eYYY4CzoL4y0",
        "colab_type": "code",
        "outputId": "024d25b5-cac9-4499-fcd0-5e385a425253",
        "colab": {
          "base_uri": "https://localhost:8080/",
          "height": 691
        }
      },
      "source": [
        "#Fare Analysis\n",
        "plt.figure(figsize = (15,10))\n",
        "plt.subplot(2,1,1)\n",
        "ax1 = sns.distplot(train_data_cleaned.Fare)\n",
        "ax1.set(xlabel = \"Fare\", ylabel = \"Percentage\")\n",
        "plt.subplot(2,1,2)\n",
        "ax2 = sns.boxplot(train_data_cleaned.Fare)\n",
        "for i in np.arange(0,1.25,0.25):\n",
        "    print(\"{0:.0f}%:\".format(i * 100), train_data_cleaned['Fare'].quantile(i))"
      ],
      "execution_count": 0,
      "outputs": [
        {
          "output_type": "stream",
          "text": [
            "0%: 0.0\n",
            "25%: 7.9104\n",
            "50%: 14.4542\n",
            "75%: 31.0\n",
            "100%: 512.3292\n"
          ],
          "name": "stdout"
        },
        {
          "output_type": "display_data",
          "data": {
            "image/png": "[encoded data removed]",
            "text/plain": [
              "<Figure size 1080x720 with 2 Axes>"
            ]
          },
          "metadata": {
            "tags": []
          }
        }
      ]
    },
    {
      "cell_type": "markdown",
      "metadata": {
        "id": "CUwwcKp7ycRI",
        "colab_type": "text"
      },
      "source": [
        "Fare is ancontinuous varible with highly irregular distribution, most of data is packed between 0 and 31 but full range reaches 513. Below this distribution is sliced in relation to Pclass and Survival rate. "
      ]
    },
    {
      "cell_type": "code",
      "metadata": {
        "id": "s4t_YWlxEp9F",
        "colab_type": "code",
        "outputId": "a32d2b85-b82f-4978-f4ad-acfe08a67580",
        "colab": {
          "base_uri": "https://localhost:8080/",
          "height": 369
        }
      },
      "source": [
        "grid = sns.FacetGrid(train_data_num, col='Pclass', row='Survived', height=2.5, aspect=1.5)\n",
        "grid.map(plt.hist, 'Fare', alpha=.7, bins=20)\n",
        "grid.add_legend();"
      ],
      "execution_count": 0,
      "outputs": [
        {
          "output_type": "display_data",
          "data": {
            "image/png": "[encoded data removed]",
            "text/plain": [
              "<Figure size 818x360 with 6 Axes>"
            ]
          },
          "metadata": {
            "tags": []
          }
        }
      ]
    },
    {
      "cell_type": "markdown",
      "metadata": {
        "id": "WYj-VzRI5nWl",
        "colab_type": "text"
      },
      "source": [
        "The most of this distribution goes for dead people in 3'rd class who payed also the lowest price for voyage it is few times more than the survivours. 2'nd class fare is still below 100 but its dead to survived ratio is close to one. In 1'st class most dead are also those who payed below 50 , and most of survivours have payed less than 100, but overally this group has around twice as much survivors than dead."
      ]
    },
    {
      "cell_type": "code",
      "metadata": {
        "id": "tkuPClC83Qam",
        "colab_type": "code",
        "outputId": "375a70d4-32d9-460c-efd0-109f2cbd71a9",
        "colab": {
          "base_uri": "https://localhost:8080/",
          "height": 312
        }
      },
      "source": [
        "ax = sns.barplot(x=\"SibSp\", y=\"Survived\", hue=\"Sex\", data=train_data_cleaned)\n",
        "ax.set_title('Survival rate related to number of siblings/spouses aboard')"
      ],
      "execution_count": 0,
      "outputs": [
        {
          "output_type": "execute_result",
          "data": {
            "text/plain": [
              "Text(0.5, 1.0, 'Survival rate related to number of siblings/spouses aboard')"
            ]
          },
          "metadata": {
            "tags": []
          },
          "execution_count": 223
        },
        {
          "output_type": "display_data",
          "data": {
            "image/png": "[encoded data removed]",
            "text/plain": [
              "<Figure size 432x288 with 1 Axes>"
            ]
          },
          "metadata": {
            "tags": []
          }
        }
      ]
    },
    {
      "cell_type": "code",
      "metadata": {
        "id": "ylhKustl36Qp",
        "colab_type": "code",
        "outputId": "7edd83a0-8c61-46f2-ee8a-bbdec49297ec",
        "colab": {
          "base_uri": "https://localhost:8080/",
          "height": 312
        }
      },
      "source": [
        "ax1 = sns.barplot(x=\"Parch\", y=\"Survived\", hue=\"Sex\", data=train_data_cleaned)\n",
        "ax1.set_title('Survival rate related to number of parents/children aboard')"
      ],
      "execution_count": 0,
      "outputs": [
        {
          "output_type": "execute_result",
          "data": {
            "text/plain": [
              "Text(0.5, 1.0, 'Survival rate related to number of parents/children aboard')"
            ]
          },
          "metadata": {
            "tags": []
          },
          "execution_count": 224
        },
        {
          "output_type": "display_data",
          "data": {
            "image/png": "[encoded data removed]",
            "text/plain": [
              "<Figure size 432x288 with 1 Axes>"
            ]
          },
          "metadata": {
            "tags": []
          }
        }
      ]
    },
    {
      "cell_type": "markdown",
      "metadata": {
        "id": "bNPFBwSKFybD",
        "colab_type": "text"
      },
      "source": [
        "Having relatives onboard seems like a positive element especially for males to some extent, and looks like females experience a little impact from those factors. But it is  clear that this relation to survival have insufficient representation across the scope, although there is a specific drop of surviva rate, either for males as for females, when Parch crosses value '3' and SibSp '2'."
      ]
    },
    {
      "cell_type": "code",
      "metadata": {
        "id": "n27o0bA-4aNm",
        "colab_type": "code",
        "outputId": "ff9f5df7-195a-458c-f621-a6d160aa23c6",
        "colab": {
          "base_uri": "https://localhost:8080/",
          "height": 296
        }
      },
      "source": [
        "ax = sns.barplot(x=\"Embarked\", y=\"Survived\", hue=\"Sex\", data=train_data_cleaned)\n",
        "ax1.set_title('Survival rate related to port of embarkation')"
      ],
      "execution_count": 0,
      "outputs": [
        {
          "output_type": "execute_result",
          "data": {
            "text/plain": [
              "Text(0.5, 1, 'Survival rate related to port of embarkation')"
            ]
          },
          "metadata": {
            "tags": []
          },
          "execution_count": 225
        },
        {
          "output_type": "display_data",
          "data": {
            "image/png": "[encoded data removed]",
            "text/plain": [
              "<Figure size 432x288 with 1 Axes>"
            ]
          },
          "metadata": {
            "tags": []
          }
        }
      ]
    },
    {
      "cell_type": "markdown",
      "metadata": {
        "id": "e-Ts4OeHAfDr",
        "colab_type": "text"
      },
      "source": [
        "Embarktion shows that those who got onboard in Cherbourg had the highest rate of survival for both sexes, but where Queenstown has 2'nd place for females and last for males, Southampton has those in opposite."
      ]
    },
    {
      "cell_type": "markdown",
      "metadata": {
        "id": "0rbknFTIJmFy",
        "colab_type": "text"
      },
      "source": [
        "#Categorising Age data\n",
        "\n",
        "Age data was distributed in 8 (0,1,..,8) categories in such way so each age gap contains relatively similar amount of data points. As it can be deduced from general distribution slicing range (0,80) into 8 equal parts will result in putting more than 50% of data into 2 categories.\n",
        "\n"
      ]
    },
    {
      "cell_type": "code",
      "metadata": {
        "id": "ayxXXShm-9h3",
        "colab_type": "code",
        "outputId": "4d21875d-03ee-4773-fa57-b5d0d408f502",
        "colab": {
          "base_uri": "https://localhost:8080/",
          "height": 34
        }
      },
      "source": [
        "train_data_num.loc[ train_data_num['Age'] <= 16, 'Age'] = 0\n",
        "train_data_num.loc[(train_data_num['Age'] > 16) & (train_data_num['Age'] <= 20), 'Age'] = 1\n",
        "train_data_num.loc[(train_data_num['Age'] > 20) & (train_data_num['Age'] <= 23), 'Age'] = 2\n",
        "train_data_num.loc[(train_data_num['Age'] > 23) & (train_data_num['Age'] <= 27), 'Age'] = 3\n",
        "train_data_num.loc[(train_data_num['Age'] > 27) & (train_data_num['Age'] <= 30), 'Age'] = 4\n",
        "train_data_num.loc[(train_data_num['Age'] > 30) & (train_data_num['Age'] <= 34), 'Age'] = 5\n",
        "train_data_num.loc[(train_data_num['Age'] > 34) & (train_data_num['Age'] <= 38), 'Age'] = 6\n",
        "train_data_num.loc[(train_data_num['Age'] > 38) & (train_data_num['Age'] <= 46), 'Age'] = 7\n",
        "train_data_num.loc[train_data_num['Age'] > 46, 'Age'] = 8\n",
        "\n",
        "\n",
        "#checking missing values for Age data after slicing\n",
        "train_data_num[\"Age\"].isnull().sum()\n",
        "\n"
      ],
      "execution_count": 0,
      "outputs": [
        {
          "output_type": "execute_result",
          "data": {
            "text/plain": [
              "0"
            ]
          },
          "metadata": {
            "tags": []
          },
          "execution_count": 226
        }
      ]
    },
    {
      "cell_type": "code",
      "metadata": {
        "id": "pRx0y-Yn_Eek",
        "colab_type": "code",
        "outputId": "d73a299c-7b7e-4348-dbec-d427e4b3b292",
        "colab": {
          "base_uri": "https://localhost:8080/",
          "height": 187
        }
      },
      "source": [
        "#checking data distribution\n",
        "train_data_num['Age'].value_counts()"
      ],
      "execution_count": 0,
      "outputs": [
        {
          "output_type": "execute_result",
          "data": {
            "text/plain": [
              "7    115\n",
              "3    114\n",
              "0    111\n",
              "1    104\n",
              "8     98\n",
              "5     94\n",
              "4     94\n",
              "2     85\n",
              "6     76\n",
              "Name: Age, dtype: int64"
            ]
          },
          "metadata": {
            "tags": []
          },
          "execution_count": 227
        }
      ]
    },
    {
      "cell_type": "code",
      "metadata": {
        "id": "Z9VpW_XZMQz9",
        "colab_type": "code",
        "outputId": "9c5dfa80-d122-418e-8f20-51a44b3c274c",
        "colab": {
          "base_uri": "https://localhost:8080/",
          "height": 34
        }
      },
      "source": [
        "test_data_num.loc[ test_data_num['Age'] <= 16, 'Age'] = 0\n",
        "test_data_num.loc[(test_data_num['Age'] > 16) & (test_data_num['Age'] <= 20), 'Age'] = 1\n",
        "test_data_num.loc[(test_data_num['Age'] > 20) & (test_data_num['Age'] <= 24), 'Age'] = 2\n",
        "test_data_num.loc[(test_data_num['Age'] > 24) & (test_data_num['Age'] <= 27), 'Age'] = 3\n",
        "test_data_num.loc[(test_data_num['Age'] > 27) & (test_data_num['Age'] <= 30), 'Age'] = 4\n",
        "test_data_num.loc[(test_data_num['Age'] > 30) & (test_data_num['Age'] <= 34), 'Age'] = 5\n",
        "test_data_num.loc[(test_data_num['Age'] > 34) & (test_data_num['Age'] <= 38), 'Age'] = 6\n",
        "test_data_num.loc[(test_data_num['Age'] > 38) & (test_data_num['Age'] <= 46), 'Age'] = 7\n",
        "test_data_num.loc[test_data_num['Age'] > 46, 'Age'] = 8\n",
        "\n",
        "\n",
        "#checking missing values for Age data\n",
        "test_data_num[\"Age\"].isnull().sum()\n"
      ],
      "execution_count": 0,
      "outputs": [
        {
          "output_type": "execute_result",
          "data": {
            "text/plain": [
              "0"
            ]
          },
          "metadata": {
            "tags": []
          },
          "execution_count": 228
        }
      ]
    },
    {
      "cell_type": "markdown",
      "metadata": {
        "id": "l3hPVIx_Jyn8",
        "colab_type": "text"
      },
      "source": [
        "Similar categorization will be done for \"Fare\" values, splitting data into 6 categories."
      ]
    },
    {
      "cell_type": "code",
      "metadata": {
        "id": "bhhBdB-TI_AW",
        "colab_type": "code",
        "colab": {}
      },
      "source": [
        "data = [train_data_num, test_data_num]\n",
        "\n",
        "for dataset in data:\n",
        "    dataset.loc[ dataset['Fare'] <= 7.91, 'Fare'] = 0\n",
        "    dataset.loc[(dataset['Fare'] > 7.91) & (dataset['Fare'] <= 14.454), 'Fare'] = 1\n",
        "    dataset.loc[(dataset['Fare'] > 14.454) & (dataset['Fare'] <= 31), 'Fare']   = 2\n",
        "    dataset.loc[(dataset['Fare'] > 31) & (dataset['Fare'] <= 99), 'Fare']   = 3\n",
        "    dataset.loc[(dataset['Fare'] > 99) & (dataset['Fare'] <= 250), 'Fare']   = 4\n",
        "    dataset.loc[ dataset['Fare'] > 250, 'Fare'] = 5\n",
        "    dataset['Fare'] = dataset['Fare'].astype(int)"
      ],
      "execution_count": 0,
      "outputs": []
    },
    {
      "cell_type": "markdown",
      "metadata": {
        "id": "zG2MMsgjcr3r",
        "colab_type": "text"
      },
      "source": [
        "Results of transormation are presented on graph below. \n",
        "\n",
        "*   List item\n",
        "*   List item\n",
        "\n"
      ]
    },
    {
      "cell_type": "code",
      "metadata": {
        "id": "qy7HK1RwRCql",
        "colab_type": "code",
        "outputId": "b8cc761e-ace4-49fe-8caf-972065c6a591",
        "colab": {
          "base_uri": "https://localhost:8080/",
          "height": 473
        }
      },
      "source": [
        "#Fare Analysis\n",
        "plt.figure(figsize = (10,6))\n",
        "ax1 = sns.distplot(train_data_num.Fare)\n",
        "ax1.set(xlabel = \"Fare\", ylabel = \"Percentage\")\n",
        "for i in np.arange(0,1.25,0.25):\n",
        "    print(\"{0:.0f}%:\".format(i * 100), train_data_num['Fare'].quantile(i))"
      ],
      "execution_count": 0,
      "outputs": [
        {
          "output_type": "stream",
          "text": [
            "0%: 0.0\n",
            "25%: 0.0\n",
            "50%: 1.0\n",
            "75%: 2.0\n",
            "100%: 5.0\n"
          ],
          "name": "stdout"
        },
        {
          "output_type": "display_data",
          "data": {
            "image/png": "[encoded data removed]",
            "text/plain": [
              "<Figure size 720x432 with 1 Axes>"
            ]
          },
          "metadata": {
            "tags": []
          }
        }
      ]
    },
    {
      "cell_type": "markdown",
      "metadata": {
        "id": "666jLfOeRxOG",
        "colab_type": "text"
      },
      "source": [
        "#**Machine Learning models and training**\n",
        "\n",
        "\n",
        "In this section preprocessed datasets will be introduced to following machine learning models -  Stochastic Gradient Descent, Decision Tree, Random Forest,Logistic Regression, K-Nearest Neighbours and Gaussian Naive Bayes."
      ]
    },
    {
      "cell_type": "code",
      "metadata": {
        "id": "ilX5Tl07SIgQ",
        "colab_type": "code",
        "colab": {}
      },
      "source": [
        "from sklearn import linear_model\n",
        "from sklearn.linear_model import LogisticRegression\n",
        "from sklearn.ensemble import RandomForestClassifier\n",
        "from sklearn.linear_model import Perceptron\n",
        "from sklearn.linear_model import SGDClassifier\n",
        "from sklearn.calibration import CalibratedClassifierCV\n",
        "from sklearn.tree import DecisionTreeClassifier\n",
        "from sklearn.neighbors import KNeighborsClassifier\n",
        "from sklearn.svm import SVC, LinearSVC\n",
        "from sklearn.naive_bayes import GaussianNB"
      ],
      "execution_count": 0,
      "outputs": []
    },
    {
      "cell_type": "code",
      "metadata": {
        "id": "3Lwn3qa3Rqu7",
        "colab_type": "code",
        "colab": {}
      },
      "source": [
        "X_train = train_data_num.drop(\"Survived\", axis=1)\n",
        "Y_train = train_data_num[\"Survived\"]\n",
        "X_test  = test_data_num"
      ],
      "execution_count": 0,
      "outputs": []
    },
    {
      "cell_type": "code",
      "metadata": {
        "id": "6DA3R7qoMjhb",
        "colab_type": "code",
        "colab": {}
      },
      "source": [
        "########################################\n",
        "#stochastic gradient Descent\n",
        "sgd = linear_model.SGDClassifier(max_iter=100, tol=None)\n",
        "sgd.fit(X_train, Y_train)\n",
        "Y_pred = sgd.predict(X_test)\n",
        "\n",
        "calibrator = CalibratedClassifierCV(sgd, cv='prefit')\n",
        "sgd_model=calibrator.fit(X_train, Y_train)\n",
        "sgd.score(X_train, Y_train)\n",
        "\n",
        "acc_sgd = round(sgd.score(X_train, Y_train) * 100, 2)"
      ],
      "execution_count": 0,
      "outputs": []
    },
    {
      "cell_type": "code",
      "metadata": {
        "id": "w1KZnDuxF-R6",
        "colab_type": "code",
        "outputId": "87811bcf-002b-40b1-e9db-2d972e3cc10d",
        "colab": {
          "base_uri": "https://localhost:8080/",
          "height": 617
        }
      },
      "source": [
        "#################################################\n",
        "#Random Forest:\n",
        "random_forest = RandomForestClassifier(n_estimators=100)\n",
        "random_forest.fit(X_train, Y_train)\n",
        "\n",
        "Y_prediction = random_forest.predict(X_test)\n",
        "\n",
        "random_forest.score(X_train, Y_train)\n",
        "acc_random_forest = round(random_forest.score(X_train, Y_train) * 100, 2)\n",
        "print('Mean accuracy of random forest is: ',acc_random_forest,'%')\n",
        "#Selecting features with assigned by model wages that resembles its importance in outcome prediction\n",
        "importances = pd.DataFrame({'feature':X_train.columns,'importance':np.round(random_forest.feature_importances_,3)})\n",
        "importances = importances.sort_values('importance',ascending=False).set_index('feature')\n",
        "importances.plot.bar()\n",
        "\n",
        "importances.head(15)"
      ],
      "execution_count": 0,
      "outputs": [
        {
          "output_type": "stream",
          "text": [
            "Mean accuracy of random forest is:  91.13 %\n"
          ],
          "name": "stdout"
        },
        {
          "output_type": "execute_result",
          "data": {
            "text/html": [
              "<div>\n",
              "<style scoped>\n",
              "    .dataframe tbody tr th:only-of-type {\n",
              "        vertical-align: middle;\n",
              "    }\n",
              "\n",
              "    .dataframe tbody tr th {\n",
              "        vertical-align: top;\n",
              "    }\n",
              "\n",
              "    .dataframe thead th {\n",
              "        text-align: right;\n",
              "    }\n",
              "</style>\n",
              "<table border=\"1\" class=\"dataframe\">\n",
              "  <thead>\n",
              "    <tr style=\"text-align: right;\">\n",
              "      <th></th>\n",
              "      <th>importance</th>\n",
              "    </tr>\n",
              "    <tr>\n",
              "      <th>feature</th>\n",
              "      <th></th>\n",
              "    </tr>\n",
              "  </thead>\n",
              "  <tbody>\n",
              "    <tr>\n",
              "      <th>Sex</th>\n",
              "      <td>0.331</td>\n",
              "    </tr>\n",
              "    <tr>\n",
              "      <th>Age</th>\n",
              "      <td>0.218</td>\n",
              "    </tr>\n",
              "    <tr>\n",
              "      <th>Fare</th>\n",
              "      <td>0.130</td>\n",
              "    </tr>\n",
              "    <tr>\n",
              "      <th>Pclass</th>\n",
              "      <td>0.127</td>\n",
              "    </tr>\n",
              "    <tr>\n",
              "      <th>SibSp</th>\n",
              "      <td>0.074</td>\n",
              "    </tr>\n",
              "    <tr>\n",
              "      <th>Parch</th>\n",
              "      <td>0.066</td>\n",
              "    </tr>\n",
              "    <tr>\n",
              "      <th>Embarked</th>\n",
              "      <td>0.055</td>\n",
              "    </tr>\n",
              "  </tbody>\n",
              "</table>\n",
              "</div>"
            ],
            "text/plain": [
              "          importance\n",
              "feature             \n",
              "Sex            0.331\n",
              "Age            0.218\n",
              "Fare           0.130\n",
              "Pclass         0.127\n",
              "SibSp          0.074\n",
              "Parch          0.066\n",
              "Embarked       0.055"
            ]
          },
          "metadata": {
            "tags": []
          },
          "execution_count": 274
        },
        {
          "output_type": "display_data",
          "data": {
            "image/png": "[encoded data removed]",
            "text/plain": [
              "<Figure size 432x288 with 1 Axes>"
            ]
          },
          "metadata": {
            "tags": []
          }
        }
      ]
    },
    {
      "cell_type": "markdown",
      "metadata": {
        "id": "Uid34kDvjXsK",
        "colab_type": "text"
      },
      "source": [
        "Most significant element for Random Forest model is Sex,\tAge,\tFare and\tPclass, thus changing those parameters should show the biggest differencies in predicted outcome. "
      ]
    },
    {
      "cell_type": "code",
      "metadata": {
        "id": "hpAKgZ8Sh66p",
        "colab_type": "code",
        "outputId": "d55f4f9f-9e83-4a6f-b0ce-07fa6422f4e5",
        "colab": {
          "base_uri": "https://localhost:8080/",
          "height": 34
        }
      },
      "source": [
        "###########################################################\n",
        "#Logistic Regression:\n",
        "logreg = LogisticRegression()\n",
        "logreg.fit(X_train, Y_train)\n",
        "\n",
        "Y_pred = logreg.predict(X_test)\n",
        "acc_log = round(logreg.score(X_train, Y_train) * 100, 2)\n",
        "gaussian"
      ],
      "execution_count": 0,
      "outputs": [
        {
          "output_type": "execute_result",
          "data": {
            "text/plain": [
              "GaussianNB(priors=None, var_smoothing=1e-09)"
            ]
          },
          "metadata": {
            "tags": []
          },
          "execution_count": 275
        }
      ]
    },
    {
      "cell_type": "code",
      "metadata": {
        "id": "xAj6rfF7h_hf",
        "colab_type": "code",
        "colab": {}
      },
      "source": [
        "###########################################################\n",
        "#K Nearest Neighbor:\n",
        "#KNN \n",
        "knn = KNeighborsClassifier(n_neighbors = 3)\n",
        "knn.fit(X_train, Y_train) \n",
        "Y_pred = knn.predict(X_test)  \n",
        "acc_knn = round(knn.score(X_train, Y_train) * 100, 2)\n"
      ],
      "execution_count": 0,
      "outputs": []
    },
    {
      "cell_type": "code",
      "metadata": {
        "id": "9dX28KB-iGGj",
        "colab_type": "code",
        "colab": {}
      },
      "source": [
        "#Gaussian Naive Bayes:\n",
        "gaussian = GaussianNB() \n",
        "gaussian.fit(X_train, Y_train)  \n",
        "Y_pred = gaussian.predict(X_test) \n",
        "acc_gaussian = round(gaussian.score(X_train, Y_train) * 100, 2)\n"
      ],
      "execution_count": 0,
      "outputs": []
    },
    {
      "cell_type": "code",
      "metadata": {
        "id": "eFuj2_ZNMz3p",
        "colab_type": "code",
        "colab": {}
      },
      "source": [
        "##############################################################\n",
        "#Decision Tree\n",
        "decision_tree = DecisionTreeClassifier() \n",
        "decision_tree.fit(X_train, Y_train)  \n",
        "Y_pred = decision_tree.predict(X_test)  \n",
        "acc_decision_tree = round(decision_tree.score(X_train, Y_train) * 100, 2)"
      ],
      "execution_count": 0,
      "outputs": []
    },
    {
      "cell_type": "markdown",
      "metadata": {
        "id": "5BE83pW9VRze",
        "colab_type": "text"
      },
      "source": [
        "# Results of trained models "
      ]
    },
    {
      "cell_type": "code",
      "metadata": {
        "id": "ePGT1rJSiA9t",
        "colab_type": "code",
        "outputId": "aed87fbd-bf6b-4e9b-8cc7-c003b7d333d3",
        "colab": {
          "base_uri": "https://localhost:8080/",
          "height": 266
        }
      },
      "source": [
        "results = pd.DataFrame({\n",
        "    'Model': ['KNN', 'Logistic Regression', \n",
        "              'Random Forest', 'Naive Bayes', \n",
        "              'Stochastic Gradient Decent', \n",
        "              'Decision Tree'],\n",
        "    'Score': [ acc_knn, acc_log, \n",
        "              acc_random_forest, acc_gaussian,\n",
        "              acc_sgd, acc_decision_tree]})\n",
        "result_df = results.sort_values(by='Score', ascending=False)\n",
        "result_df = result_df.set_index('Score')\n",
        "result_df.head(7)"
      ],
      "execution_count": 0,
      "outputs": [
        {
          "output_type": "execute_result",
          "data": {
            "text/html": [
              "<div>\n",
              "<style scoped>\n",
              "    .dataframe tbody tr th:only-of-type {\n",
              "        vertical-align: middle;\n",
              "    }\n",
              "\n",
              "    .dataframe tbody tr th {\n",
              "        vertical-align: top;\n",
              "    }\n",
              "\n",
              "    .dataframe thead th {\n",
              "        text-align: right;\n",
              "    }\n",
              "</style>\n",
              "<table border=\"1\" class=\"dataframe\">\n",
              "  <thead>\n",
              "    <tr style=\"text-align: right;\">\n",
              "      <th></th>\n",
              "      <th>Model</th>\n",
              "    </tr>\n",
              "    <tr>\n",
              "      <th>Score</th>\n",
              "      <th></th>\n",
              "    </tr>\n",
              "  </thead>\n",
              "  <tbody>\n",
              "    <tr>\n",
              "      <th>91.13</th>\n",
              "      <td>Random Forest</td>\n",
              "    </tr>\n",
              "    <tr>\n",
              "      <th>91.13</th>\n",
              "      <td>Decision Tree</td>\n",
              "    </tr>\n",
              "    <tr>\n",
              "      <th>85.97</th>\n",
              "      <td>KNN</td>\n",
              "    </tr>\n",
              "    <tr>\n",
              "      <th>79.80</th>\n",
              "      <td>Logistic Regression</td>\n",
              "    </tr>\n",
              "    <tr>\n",
              "      <th>78.90</th>\n",
              "      <td>Stochastic Gradient Decent</td>\n",
              "    </tr>\n",
              "    <tr>\n",
              "      <th>76.54</th>\n",
              "      <td>Naive Bayes</td>\n",
              "    </tr>\n",
              "  </tbody>\n",
              "</table>\n",
              "</div>"
            ],
            "text/plain": [
              "                            Model\n",
              "Score                            \n",
              "91.13               Random Forest\n",
              "91.13               Decision Tree\n",
              "85.97                         KNN\n",
              "79.80         Logistic Regression\n",
              "78.90  Stochastic Gradient Decent\n",
              "76.54                 Naive Bayes"
            ]
          },
          "metadata": {
            "tags": []
          },
          "execution_count": 279
        }
      ]
    },
    {
      "cell_type": "markdown",
      "metadata": {
        "id": "kSg5pojtgpKE",
        "colab_type": "text"
      },
      "source": [
        "#Prediction of survivability\n",
        "\n",
        "This section contains tools to create their own test data and check what are chances of survival, calculated by selected model, for person with given characteristics. "
      ]
    },
    {
      "cell_type": "code",
      "metadata": {
        "id": "b9fjOI-CR66U",
        "colab_type": "code",
        "colab": {}
      },
      "source": [
        "#function prints out input data and predicted Survivability with percentage certainty\n",
        "\n",
        "def data_preprocessing(passenger_features):\n",
        "  passenger_features=passenger_features.replace([\"female\",\"male\"],[0,1])\n",
        "  passenger_features=passenger_features.replace([\"C\",\"Q\",\"S\"],[0,1,2])\n",
        "\n",
        "  passenger_features.loc[ passenger_features['Age'] <= 16, 'Age'] = 0\n",
        "  passenger_features.loc[(passenger_features['Age'] > 16) & (passenger_features['Age'] <= 20), 'Age'] = 1\n",
        "  passenger_features.loc[(passenger_features['Age'] > 20) & (passenger_features['Age'] <= 24), 'Age'] = 2\n",
        "  passenger_features.loc[(passenger_features['Age'] > 24) & (passenger_features['Age'] <= 27), 'Age'] = 3\n",
        "  passenger_features.loc[(passenger_features['Age'] > 27) & (passenger_features['Age'] <= 30), 'Age'] = 4\n",
        "  passenger_features.loc[(passenger_features['Age'] > 30) & (passenger_features['Age'] <= 34), 'Age'] = 5\n",
        "  passenger_features.loc[(passenger_features['Age'] > 34) & (passenger_features['Age'] <= 38), 'Age'] = 6\n",
        "  passenger_features.loc[(passenger_features['Age'] > 38) & (passenger_features['Age'] <= 46), 'Age'] = 7\n",
        "  passenger_features.loc[passenger_features['Age'] > 46, 'Age'] = 8\n",
        "\n",
        "  passenger_features.loc[ passenger_features['Fare'] <= 7.91, 'Fare'] = 0\n",
        "  passenger_features.loc[(passenger_features['Fare'] > 7.91) & (passenger_features['Fare'] <= 14.454), 'Fare'] = 1\n",
        "  passenger_features.loc[(passenger_features['Fare'] > 14.454) & (passenger_features['Fare'] <= 31), 'Fare']   = 2\n",
        "  passenger_features.loc[(passenger_features['Fare'] > 31) & (passenger_features['Fare'] <= 99), 'Fare']   = 3\n",
        "  passenger_features.loc[(passenger_features['Fare'] > 99) & (passenger_features['Fare'] <= 250), 'Fare']   = 4\n",
        "  passenger_features.loc[ passenger_features['Fare'] > 250, 'Fare'] = 5\n",
        "  passenger_features['Fare'] = passenger_features['Fare'].astype(int)\n",
        "  \n",
        "  return passenger_features"
      ],
      "execution_count": 0,
      "outputs": []
    },
    {
      "cell_type": "code",
      "metadata": {
        "id": "okjn33y_-mue",
        "colab_type": "code",
        "colab": {}
      },
      "source": [
        "#function prints out input data and predicted Survivability with percentage certainty  \n",
        "\n",
        "def predict_result(trained_model, input_data):\n",
        "\n",
        "  for index, row in input_data.iterrows():\n",
        "    data = pd.DataFrame({'Pclass': [row['Pclass']],'Sex': [row['Sex']],'Age':[row['Age']],'SibSp':[row['SibSp']],\t'Parch':[row['Parch']],\t'Fare':[row['Fare']],\t'Embarked':[row['Embarked']]})\n",
        "    #print(data)\n",
        "\n",
        "    if trained_model.predict_proba(data)[0][0] > trained_model.predict_proba(data)[0][1]:\n",
        "      print('Not survived with:', trained_model.predict_proba(data)[0][0]*100, '% certainty.')\n",
        "    else:\n",
        "      print('Survived with:', trained_model.predict_proba(data)[0][1]*100, '% certainty.')"
      ],
      "execution_count": 0,
      "outputs": []
    },
    {
      "cell_type": "markdown",
      "metadata": {
        "id": "tB0SIQQ0govU",
        "colab_type": "text"
      },
      "source": [
        "Below anyone can create their own passenger and check if it would survive or perish in Titanic crash, person should be using characteristic from list below, ind insert it under right category.\n",
        "\n",
        "Pclass: Passenger Class (1 = 1st; 2 = 2nd; 3 = 3rd)\n",
        "\n",
        "Sex: Sex of passenger (male, female)[string value]\n",
        "\n",
        "Age: Age of pasenger\n",
        "\n",
        "Sibsp: Number of Siblings/Spouses Aboard (0,1,...,8)\n",
        "\n",
        "Parch: Number of Parents/Children Aboard (0,1,...,6)\n",
        "\n",
        "Fare: Passenger Fare - price of ticket\n",
        "\n",
        "Embarked: Port of Embarkation (C = Cherbourg; Q = Queenstown; S = Southampton)[string value]\n"
      ]
    },
    {
      "cell_type": "code",
      "metadata": {
        "id": "Mj1I-Cy_Sb5A",
        "colab_type": "code",
        "colab": {}
      },
      "source": [
        "labels = train_data_num.head(0)\n",
        "\n",
        "passenger_features = pd.DataFrame(labels.drop(['Survived'],axis=1))\n",
        "passenger_features['Pclass'] = [3, 1,3,1]\n",
        "passenger_features['Sex'] = ['female','female','male','male']\n",
        "passenger_features['Age'] = [30, 40,30,40]\n",
        "passenger_features['SibSp'] = [2,0,2,0]\n",
        "passenger_features['Parch'] = [3, 0,3,0]\n",
        "passenger_features['Fare'] = [300, 150,300,150]\n",
        "passenger_features['Embarked'] = [\"S\",\"S\",\"S\",\"S\"]"
      ],
      "execution_count": 0,
      "outputs": []
    },
    {
      "cell_type": "code",
      "metadata": {
        "id": "qLkTVph-TS__",
        "colab_type": "code",
        "outputId": "35516fa4-4542-46b4-b59a-4c524643351b",
        "colab": {
          "base_uri": "https://localhost:8080/",
          "height": 173
        }
      },
      "source": [
        "passenger_features"
      ],
      "execution_count": 0,
      "outputs": [
        {
          "output_type": "execute_result",
          "data": {
            "text/html": [
              "<div>\n",
              "<style scoped>\n",
              "    .dataframe tbody tr th:only-of-type {\n",
              "        vertical-align: middle;\n",
              "    }\n",
              "\n",
              "    .dataframe tbody tr th {\n",
              "        vertical-align: top;\n",
              "    }\n",
              "\n",
              "    .dataframe thead th {\n",
              "        text-align: right;\n",
              "    }\n",
              "</style>\n",
              "<table border=\"1\" class=\"dataframe\">\n",
              "  <thead>\n",
              "    <tr style=\"text-align: right;\">\n",
              "      <th></th>\n",
              "      <th>Pclass</th>\n",
              "      <th>Sex</th>\n",
              "      <th>Age</th>\n",
              "      <th>SibSp</th>\n",
              "      <th>Parch</th>\n",
              "      <th>Fare</th>\n",
              "      <th>Embarked</th>\n",
              "    </tr>\n",
              "  </thead>\n",
              "  <tbody>\n",
              "    <tr>\n",
              "      <th>0</th>\n",
              "      <td>3</td>\n",
              "      <td>female</td>\n",
              "      <td>30</td>\n",
              "      <td>2</td>\n",
              "      <td>3</td>\n",
              "      <td>300</td>\n",
              "      <td>S</td>\n",
              "    </tr>\n",
              "    <tr>\n",
              "      <th>1</th>\n",
              "      <td>1</td>\n",
              "      <td>female</td>\n",
              "      <td>40</td>\n",
              "      <td>0</td>\n",
              "      <td>0</td>\n",
              "      <td>150</td>\n",
              "      <td>S</td>\n",
              "    </tr>\n",
              "    <tr>\n",
              "      <th>2</th>\n",
              "      <td>3</td>\n",
              "      <td>male</td>\n",
              "      <td>30</td>\n",
              "      <td>2</td>\n",
              "      <td>3</td>\n",
              "      <td>300</td>\n",
              "      <td>S</td>\n",
              "    </tr>\n",
              "    <tr>\n",
              "      <th>3</th>\n",
              "      <td>1</td>\n",
              "      <td>male</td>\n",
              "      <td>40</td>\n",
              "      <td>0</td>\n",
              "      <td>0</td>\n",
              "      <td>150</td>\n",
              "      <td>S</td>\n",
              "    </tr>\n",
              "  </tbody>\n",
              "</table>\n",
              "</div>"
            ],
            "text/plain": [
              "   Pclass     Sex  Age  SibSp  Parch  Fare Embarked\n",
              "0       3  female   30      2      3   300        S\n",
              "1       1  female   40      0      0   150        S\n",
              "2       3    male   30      2      3   300        S\n",
              "3       1    male   40      0      0   150        S"
            ]
          },
          "metadata": {
            "tags": []
          },
          "execution_count": 283
        }
      ]
    },
    {
      "cell_type": "markdown",
      "metadata": {
        "id": "hX3RPlzC-V3R",
        "colab_type": "text"
      },
      "source": [
        "Given data must be processed with \"data_preprocessing\" function which transforms it to format used for model training."
      ]
    },
    {
      "cell_type": "code",
      "metadata": {
        "id": "3gsGW33sUMt4",
        "colab_type": "code",
        "colab": {}
      },
      "source": [
        "data_processed = data_preprocessing(passenger_features)"
      ],
      "execution_count": 0,
      "outputs": []
    },
    {
      "cell_type": "code",
      "metadata": {
        "id": "tJr5IR39IYS0",
        "colab_type": "code",
        "outputId": "d3aacc03-3fd1-4937-84c9-8e69829dacd1",
        "colab": {
          "base_uri": "https://localhost:8080/",
          "height": 714
        }
      },
      "source": [
        "print(passenger_features)\n",
        "print(' ')\n",
        "\n",
        "print('Random forest')\n",
        "predict_result(random_forest,data_processed)\n",
        "print(' ')\n",
        "print('Decision tree')\n",
        "predict_result(decision_tree,data_processed)\n",
        "print(' ')\n",
        "print('KNN')\n",
        "predict_result(knn,data_processed)\n",
        "print(' ')\n",
        "print('Logistic Regresion')\n",
        "predict_result(logreg,data_processed)\n",
        "print(' ')\n",
        "print('Naive Bayes Gaussian')\n",
        "predict_result(gaussian,data_processed)\n",
        "print(' ')\n",
        "print('Stochastic Gradient Descent')\n",
        "predict_result(sgd_model,data_processed) "
      ],
      "execution_count": 0,
      "outputs": [
        {
          "output_type": "stream",
          "text": [
            "   Pclass     Sex  Age  SibSp  Parch  Fare Embarked\n",
            "0       3  female   30      2      3   300        S\n",
            "1       1  female   40      0      0   150        S\n",
            "2       3    male   30      2      3   300        S\n",
            "3       1    male   40      0      0   150        S\n",
            " \n",
            "Random forest\n",
            "Not survived with: 88.0 % certainty.\n",
            "Survived with: 99.0 % certainty.\n",
            "Not survived with: 90.0 % certainty.\n",
            "Not survived with: 82.28888888888888 % certainty.\n",
            " \n",
            "Decision tree\n",
            "Not survived with: 100.0 % certainty.\n",
            "Survived with: 100.0 % certainty.\n",
            "Not survived with: 100.0 % certainty.\n",
            "Not survived with: 100.0 % certainty.\n",
            " \n",
            "KNN\n",
            "Survived with: 66.66666666666666 % certainty.\n",
            "Survived with: 100.0 % certainty.\n",
            "Survived with: 66.66666666666666 % certainty.\n",
            "Not survived with: 66.66666666666666 % certainty.\n",
            " \n",
            "Logistic Regresion\n",
            "Survived with: 61.19088671630364 % certainty.\n",
            "Survived with: 92.3078162184612 % certainty.\n",
            "Not survived with: 89.51316291537825 % certainty.\n",
            "Not survived with: 52.8639591137918 % certainty.\n",
            " \n",
            "Naive Bayes Gaussian\n",
            "Survived with: 90.88645009637271 % certainty.\n",
            "Survived with: 99.35914338950347 % certainty.\n",
            "Not survived with: 79.20626050530754 % certainty.\n",
            "Survived with: 80.32035991491261 % certainty.\n",
            " \n",
            "Stochastic Gradient Descent\n",
            "Survived with: 52.11804226255884 % certainty.\n",
            "Survived with: 80.59391116002199 % certainty.\n",
            "Not survived with: 93.65853118019189 % certainty.\n",
            "Not survived with: 79.46981949731295 % certainty.\n"
          ],
          "name": "stdout"
        }
      ]
    },
    {
      "cell_type": "markdown",
      "metadata": {
        "id": "QPXoLSwrpXtU",
        "colab_type": "text"
      },
      "source": [
        "Having those examples it can be seen that models with highest overall score - Random Forest and Decision Trees, are giving quite simmilar predictions with this difference that Decision Tree gave binary outcome with 100% certainty Which resembles typical overfitting in Deep Decision Trees and in this case Random Forest seems to avoid that case maintaining the same score as Decision tree. \n",
        "\n",
        "It can be checked on larger set of data using \"test data\"."
      ]
    },
    {
      "cell_type": "code",
      "metadata": {
        "id": "UOt0ZEXPxP3A",
        "colab_type": "code",
        "outputId": "7e11974a-1bdd-463b-fd15-32423fa25e0c",
        "colab": {
          "base_uri": "https://localhost:8080/",
          "height": 1000
        }
      },
      "source": [
        "predict_result(decision_tree,test_data_num) "
      ],
      "execution_count": 0,
      "outputs": [
        {
          "output_type": "stream",
          "text": [
            "Not survived with: 100.0 % certainty.\n",
            "Not survived with: 100.0 % certainty.\n",
            "Not survived with: 100.0 % certainty.\n",
            "Not survived with: 85.71428571428571 % certainty.\n",
            "Survived with: 100.0 % certainty.\n",
            "Not survived with: 75.0 % certainty.\n",
            "Survived with: 75.0 % certainty.\n",
            "Not survived with: 100.0 % certainty.\n",
            "Survived with: 80.0 % certainty.\n",
            "Survived with: 100.0 % certainty.\n",
            "Not survived with: 81.25 % certainty.\n",
            "Survived with: 50.0 % certainty.\n",
            "Survived with: 100.0 % certainty.\n",
            "Not survived with: 100.0 % certainty.\n",
            "Survived with: 100.0 % certainty.\n",
            "Survived with: 100.0 % certainty.\n",
            "Not survived with: 100.0 % certainty.\n",
            "Not survived with: 66.66666666666666 % certainty.\n",
            "Not survived with: 100.0 % certainty.\n",
            "Survived with: 100.0 % certainty.\n",
            "Survived with: 100.0 % certainty.\n",
            "Not survived with: 100.0 % certainty.\n",
            "Survived with: 100.0 % certainty.\n",
            "Survived with: 100.0 % certainty.\n",
            "Survived with: 100.0 % certainty.\n",
            "Not survived with: 100.0 % certainty.\n",
            "Survived with: 100.0 % certainty.\n",
            "Not survived with: 66.66666666666666 % certainty.\n",
            "Survived with: 50.0 % certainty.\n",
            "Not survived with: 100.0 % certainty.\n",
            "Not survived with: 100.0 % certainty.\n",
            "Survived with: 100.0 % certainty.\n",
            "Not survived with: 100.0 % certainty.\n",
            "Survived with: 100.0 % certainty.\n",
            "Not survived with: 100.0 % certainty.\n",
            "Not survived with: 80.0 % certainty.\n",
            "Survived with: 100.0 % certainty.\n",
            "Not survived with: 100.0 % certainty.\n",
            "Not survived with: 85.71428571428571 % certainty.\n",
            "Survived with: 100.0 % certainty.\n",
            "Not survived with: 100.0 % certainty.\n",
            "Survived with: 100.0 % certainty.\n",
            "Not survived with: 75.0 % certainty.\n",
            "Survived with: 100.0 % certainty.\n",
            "Survived with: 100.0 % certainty.\n",
            "Not survived with: 80.95238095238095 % certainty.\n",
            "Survived with: 50.0 % certainty.\n",
            "Not survived with: 100.0 % certainty.\n",
            "Survived with: 100.0 % certainty.\n",
            "Not survived with: 100.0 % certainty.\n",
            "Not survived with: 100.0 % certainty.\n",
            "Survived with: 100.0 % certainty.\n",
            "Survived with: 100.0 % certainty.\n",
            "Survived with: 100.0 % certainty.\n",
            "Not survived with: 100.0 % certainty.\n",
            "Not survived with: 100.0 % certainty.\n",
            "Not survived with: 100.0 % certainty.\n",
            "Not survived with: 80.95238095238095 % certainty.\n",
            "Not survived with: 100.0 % certainty.\n",
            "Survived with: 100.0 % certainty.\n",
            "Not survived with: 100.0 % certainty.\n",
            "Not survived with: 71.42857142857143 % certainty.\n",
            "Not survived with: 100.0 % certainty.\n",
            "Survived with: 50.0 % certainty.\n",
            "Survived with: 100.0 % certainty.\n",
            "Survived with: 100.0 % certainty.\n",
            "Survived with: 80.0 % certainty.\n",
            "Not survived with: 100.0 % certainty.\n",
            "Survived with: 100.0 % certainty.\n",
            "Survived with: 100.0 % certainty.\n",
            "Survived with: 50.0 % certainty.\n",
            "Not survived with: 94.73684210526315 % certainty.\n",
            "Not survived with: 100.0 % certainty.\n",
            "Not survived with: 100.0 % certainty.\n",
            "Survived with: 100.0 % certainty.\n",
            "Not survived with: 100.0 % certainty.\n",
            "Not survived with: 75.0 % certainty.\n",
            "Survived with: 50.0 % certainty.\n",
            "Not survived with: 100.0 % certainty.\n",
            "Survived with: 50.0 % certainty.\n",
            "Survived with: 66.66666666666666 % certainty.\n",
            "Not survived with: 100.0 % certainty.\n",
            "Not survived with: 66.66666666666666 % certainty.\n",
            "Not survived with: 94.73684210526315 % certainty.\n",
            "Not survived with: 100.0 % certainty.\n",
            "Not survived with: 100.0 % certainty.\n",
            "Survived with: 100.0 % certainty.\n",
            "Not survived with: 66.66666666666666 % certainty.\n",
            "Survived with: 100.0 % certainty.\n",
            "Survived with: 100.0 % certainty.\n",
            "Not survived with: 100.0 % certainty.\n",
            "Not survived with: 81.25 % certainty.\n",
            "Survived with: 100.0 % certainty.\n",
            "Not survived with: 87.5 % certainty.\n",
            "Survived with: 100.0 % certainty.\n",
            "Not survived with: 80.95238095238095 % certainty.\n",
            "Survived with: 100.0 % certainty.\n",
            "Not survived with: 100.0 % certainty.\n",
            "Survived with: 50.0 % certainty.\n",
            "Not survived with: 87.5 % certainty.\n",
            "Survived with: 100.0 % certainty.\n",
            "Not survived with: 100.0 % certainty.\n",
            "Not survived with: 100.0 % certainty.\n",
            "Not survived with: 80.95238095238095 % certainty.\n",
            "Not survived with: 100.0 % certainty.\n",
            "Not survived with: 100.0 % certainty.\n",
            "Not survived with: 100.0 % certainty.\n",
            "Not survived with: 100.0 % certainty.\n",
            "Not survived with: 75.0 % certainty.\n",
            "Not survived with: 83.33333333333334 % certainty.\n",
            "Not survived with: 100.0 % certainty.\n",
            "Survived with: 75.0 % certainty.\n",
            "Survived with: 100.0 % certainty.\n",
            "Survived with: 80.0 % certainty.\n",
            "Survived with: 100.0 % certainty.\n",
            "Not survived with: 100.0 % certainty.\n",
            "Not survived with: 80.0 % certainty.\n",
            "Survived with: 100.0 % certainty.\n",
            "Not survived with: 100.0 % certainty.\n",
            "Survived with: 100.0 % certainty.\n",
            "Survived with: 100.0 % certainty.\n",
            "Not survived with: 66.66666666666666 % certainty.\n",
            "Survived with: 100.0 % certainty.\n",
            "Not survived with: 100.0 % certainty.\n",
            "Not survived with: 100.0 % certainty.\n",
            "Survived with: 100.0 % certainty.\n",
            "Not survived with: 94.73684210526315 % certainty.\n",
            "Survived with: 100.0 % certainty.\n",
            "Not survived with: 60.0 % certainty.\n",
            "Not survived with: 100.0 % certainty.\n",
            "Not survived with: 87.5 % certainty.\n",
            "Not survived with: 100.0 % certainty.\n",
            "Survived with: 100.0 % certainty.\n",
            "Survived with: 100.0 % certainty.\n",
            "Not survived with: 75.0 % certainty.\n",
            "Not survived with: 94.73684210526315 % certainty.\n",
            "Not survived with: 100.0 % certainty.\n",
            "Not survived with: 100.0 % certainty.\n",
            "Not survived with: 100.0 % certainty.\n",
            "Not survived with: 100.0 % certainty.\n",
            "Not survived with: 100.0 % certainty.\n",
            "Survived with: 100.0 % certainty.\n",
            "Not survived with: 100.0 % certainty.\n",
            "Not survived with: 100.0 % certainty.\n",
            "Survived with: 50.0 % certainty.\n",
            "Not survived with: 100.0 % certainty.\n",
            "Survived with: 100.0 % certainty.\n",
            "Not survived with: 100.0 % certainty.\n",
            "Survived with: 100.0 % certainty.\n",
            "Not survived with: 100.0 % certainty.\n",
            "Survived with: 100.0 % certainty.\n",
            "Not survived with: 66.66666666666666 % certainty.\n",
            "Not survived with: 100.0 % certainty.\n",
            "Not survived with: 100.0 % certainty.\n",
            "Not survived with: 66.66666666666666 % certainty.\n",
            "Not survived with: 94.73684210526315 % certainty.\n",
            "Survived with: 100.0 % certainty.\n",
            "Survived with: 83.33333333333334 % certainty.\n",
            "Survived with: 50.0 % certainty.\n",
            "Survived with: 100.0 % certainty.\n",
            "Survived with: 100.0 % certainty.\n",
            "Survived with: 66.66666666666666 % certainty.\n",
            "Survived with: 66.66666666666666 % certainty.\n",
            "Not survived with: 94.73684210526315 % certainty.\n",
            "Not survived with: 60.0 % certainty.\n",
            "Survived with: 100.0 % certainty.\n",
            "Not survived with: 66.66666666666666 % certainty.\n",
            "Not survived with: 100.0 % certainty.\n",
            "Survived with: 100.0 % certainty.\n",
            "Not survived with: 100.0 % certainty.\n",
            "Not survived with: 75.0 % certainty.\n",
            "Not survived with: 100.0 % certainty.\n",
            "Not survived with: 100.0 % certainty.\n",
            "Not survived with: 83.33333333333334 % certainty.\n",
            "Not survived with: 100.0 % certainty.\n",
            "Survived with: 100.0 % certainty.\n",
            "Survived with: 100.0 % certainty.\n",
            "Survived with: 100.0 % certainty.\n",
            "Survived with: 100.0 % certainty.\n",
            "Survived with: 100.0 % certainty.\n",
            "Not survived with: 100.0 % certainty.\n",
            "Survived with: 100.0 % certainty.\n",
            "Survived with: 100.0 % certainty.\n",
            "Not survived with: 100.0 % certainty.\n",
            "Survived with: 100.0 % certainty.\n",
            "Not survived with: 100.0 % certainty.\n",
            "Survived with: 100.0 % certainty.\n",
            "Survived with: 100.0 % certainty.\n",
            "Not survived with: 100.0 % certainty.\n",
            "Not survived with: 60.0 % certainty.\n",
            "Not survived with: 75.0 % certainty.\n",
            "Not survived with: 100.0 % certainty.\n",
            "Survived with: 100.0 % certainty.\n",
            "Not survived with: 100.0 % certainty.\n",
            "Survived with: 100.0 % certainty.\n",
            "Not survived with: 81.25 % certainty.\n",
            "Survived with: 100.0 % certainty.\n",
            "Survived with: 50.0 % certainty.\n",
            "Not survived with: 100.0 % certainty.\n",
            "Not survived with: 100.0 % certainty.\n",
            "Not survived with: 100.0 % certainty.\n",
            "Survived with: 100.0 % certainty.\n",
            "Not survived with: 100.0 % certainty.\n",
            "Survived with: 100.0 % certainty.\n",
            "Not survived with: 100.0 % certainty.\n",
            "Not survived with: 100.0 % certainty.\n",
            "Survived with: 100.0 % certainty.\n",
            "Not survived with: 100.0 % certainty.\n",
            "Survived with: 100.0 % certainty.\n",
            "Not survived with: 80.95238095238095 % certainty.\n",
            "Not survived with: 100.0 % certainty.\n",
            "Not survived with: 100.0 % certainty.\n",
            "Not survived with: 100.0 % certainty.\n",
            "Survived with: 50.0 % certainty.\n",
            "Survived with: 100.0 % certainty.\n",
            "Not survived with: 100.0 % certainty.\n",
            "Survived with: 100.0 % certainty.\n",
            "Not survived with: 100.0 % certainty.\n",
            "Survived with: 100.0 % certainty.\n",
            "Not survived with: 83.33333333333334 % certainty.\n",
            "Survived with: 100.0 % certainty.\n",
            "Not survived with: 100.0 % certainty.\n",
            "Survived with: 100.0 % certainty.\n",
            "Not survived with: 94.73684210526315 % certainty.\n",
            "Not survived with: 100.0 % certainty.\n",
            "Not survived with: 100.0 % certainty.\n",
            "Not survived with: 94.73684210526315 % certainty.\n",
            "Survived with: 80.0 % certainty.\n",
            "Not survived with: 100.0 % certainty.\n",
            "Not survived with: 100.0 % certainty.\n",
            "Not survived with: 100.0 % certainty.\n",
            "Survived with: 100.0 % certainty.\n",
            "Not survived with: 100.0 % certainty.\n",
            "Not survived with: 75.0 % certainty.\n",
            "Not survived with: 75.0 % certainty.\n",
            "Not survived with: 100.0 % certainty.\n",
            "Survived with: 100.0 % certainty.\n",
            "Not survived with: 80.0 % certainty.\n",
            "Survived with: 100.0 % certainty.\n",
            "Survived with: 100.0 % certainty.\n",
            "Not survived with: 100.0 % certainty.\n",
            "Survived with: 100.0 % certainty.\n",
            "Not survived with: 100.0 % certainty.\n",
            "Not survived with: 94.73684210526315 % certainty.\n",
            "Not survived with: 100.0 % certainty.\n",
            "Not survived with: 75.0 % certainty.\n",
            "Survived with: 100.0 % certainty.\n",
            "Not survived with: 100.0 % certainty.\n",
            "Survived with: 100.0 % certainty.\n",
            "Not survived with: 100.0 % certainty.\n",
            "Survived with: 100.0 % certainty.\n",
            "Not survived with: 100.0 % certainty.\n",
            "Not survived with: 100.0 % certainty.\n",
            "Not survived with: 100.0 % certainty.\n",
            "Not survived with: 87.5 % certainty.\n",
            "Not survived with: 100.0 % certainty.\n",
            "Survived with: 50.0 % certainty.\n",
            "Not survived with: 83.33333333333334 % certainty.\n",
            "Survived with: 100.0 % certainty.\n",
            "Not survived with: 94.73684210526315 % certainty.\n",
            "Not survived with: 100.0 % certainty.\n",
            "Not survived with: 94.73684210526315 % certainty.\n",
            "Survived with: 100.0 % certainty.\n",
            "Survived with: 100.0 % certainty.\n",
            "Not survived with: 83.33333333333334 % certainty.\n",
            "Not survived with: 94.73684210526315 % certainty.\n",
            "Not survived with: 100.0 % certainty.\n",
            "Not survived with: 81.25 % certainty.\n",
            "Survived with: 100.0 % certainty.\n",
            "Not survived with: 88.88888888888889 % certainty.\n",
            "Not survived with: 100.0 % certainty.\n",
            "Not survived with: 100.0 % certainty.\n",
            "Survived with: 100.0 % certainty.\n",
            "Survived with: 100.0 % certainty.\n",
            "Not survived with: 80.0 % certainty.\n",
            "Survived with: 100.0 % certainty.\n",
            "Not survived with: 100.0 % certainty.\n",
            "Not survived with: 100.0 % certainty.\n",
            "Not survived with: 100.0 % certainty.\n",
            "Not survived with: 100.0 % certainty.\n",
            "Not survived with: 100.0 % certainty.\n",
            "Survived with: 100.0 % certainty.\n",
            "Survived with: 100.0 % certainty.\n",
            "Not survived with: 100.0 % certainty.\n",
            "Survived with: 100.0 % certainty.\n",
            "Not survived with: 100.0 % certainty.\n",
            "Not survived with: 75.0 % certainty.\n",
            "Not survived with: 100.0 % certainty.\n",
            "Not survived with: 80.0 % certainty.\n",
            "Not survived with: 83.33333333333334 % certainty.\n",
            "Not survived with: 100.0 % certainty.\n",
            "Survived with: 75.0 % certainty.\n",
            "Not survived with: 80.0 % certainty.\n",
            "Not survived with: 100.0 % certainty.\n",
            "Not survived with: 100.0 % certainty.\n",
            "Not survived with: 80.95238095238095 % certainty.\n",
            "Survived with: 100.0 % certainty.\n",
            "Not survived with: 100.0 % certainty.\n",
            "Not survived with: 60.0 % certainty.\n",
            "Not survived with: 100.0 % certainty.\n",
            "Not survived with: 81.25 % certainty.\n",
            "Not survived with: 100.0 % certainty.\n",
            "Not survived with: 100.0 % certainty.\n",
            "Not survived with: 100.0 % certainty.\n",
            "Survived with: 100.0 % certainty.\n",
            "Survived with: 100.0 % certainty.\n",
            "Not survived with: 100.0 % certainty.\n",
            "Survived with: 100.0 % certainty.\n",
            "Not survived with: 100.0 % certainty.\n",
            "Not survived with: 100.0 % certainty.\n",
            "Not survived with: 88.88888888888889 % certainty.\n",
            "Not survived with: 66.66666666666666 % certainty.\n",
            "Not survived with: 75.0 % certainty.\n",
            "Survived with: 100.0 % certainty.\n",
            "Survived with: 100.0 % certainty.\n",
            "Survived with: 80.0 % certainty.\n",
            "Not survived with: 100.0 % certainty.\n",
            "Not survived with: 83.33333333333334 % certainty.\n",
            "Not survived with: 80.95238095238095 % certainty.\n",
            "Survived with: 100.0 % certainty.\n",
            "Not survived with: 80.95238095238095 % certainty.\n",
            "Not survived with: 100.0 % certainty.\n",
            "Not survived with: 100.0 % certainty.\n",
            "Survived with: 100.0 % certainty.\n",
            "Survived with: 100.0 % certainty.\n",
            "Not survived with: 94.73684210526315 % certainty.\n",
            "Survived with: 100.0 % certainty.\n",
            "Not survived with: 100.0 % certainty.\n",
            "Not survived with: 100.0 % certainty.\n",
            "Not survived with: 100.0 % certainty.\n",
            "Survived with: 100.0 % certainty.\n",
            "Survived with: 50.0 % certainty.\n",
            "Not survived with: 66.66666666666666 % certainty.\n",
            "Not survived with: 100.0 % certainty.\n",
            "Not survived with: 80.95238095238095 % certainty.\n",
            "Survived with: 50.0 % certainty.\n",
            "Not survived with: 71.42857142857143 % certainty.\n",
            "Not survived with: 100.0 % certainty.\n",
            "Not survived with: 100.0 % certainty.\n",
            "Not survived with: 83.33333333333334 % certainty.\n",
            "Not survived with: 83.33333333333334 % certainty.\n",
            "Not survived with: 81.25 % certainty.\n",
            "Not survived with: 100.0 % certainty.\n",
            "Survived with: 100.0 % certainty.\n",
            "Not survived with: 100.0 % certainty.\n",
            "Not survived with: 100.0 % certainty.\n",
            "Not survived with: 100.0 % certainty.\n",
            "Survived with: 100.0 % certainty.\n",
            "Not survived with: 100.0 % certainty.\n",
            "Survived with: 100.0 % certainty.\n",
            "Survived with: 100.0 % certainty.\n",
            "Not survived with: 100.0 % certainty.\n",
            "Not survived with: 100.0 % certainty.\n",
            "Not survived with: 100.0 % certainty.\n",
            "Survived with: 100.0 % certainty.\n",
            "Not survived with: 66.66666666666666 % certainty.\n",
            "Survived with: 100.0 % certainty.\n",
            "Not survived with: 75.0 % certainty.\n",
            "Not survived with: 100.0 % certainty.\n",
            "Survived with: 100.0 % certainty.\n",
            "Not survived with: 100.0 % certainty.\n",
            "Survived with: 100.0 % certainty.\n",
            "Survived with: 100.0 % certainty.\n",
            "Not survived with: 85.71428571428571 % certainty.\n",
            "Survived with: 100.0 % certainty.\n",
            "Survived with: 100.0 % certainty.\n",
            "Not survived with: 100.0 % certainty.\n",
            "Survived with: 100.0 % certainty.\n",
            "Survived with: 100.0 % certainty.\n",
            "Not survived with: 83.33333333333334 % certainty.\n",
            "Not survived with: 100.0 % certainty.\n",
            "Survived with: 100.0 % certainty.\n",
            "Not survived with: 100.0 % certainty.\n",
            "Not survived with: 60.0 % certainty.\n",
            "Survived with: 100.0 % certainty.\n",
            "Survived with: 100.0 % certainty.\n",
            "Survived with: 100.0 % certainty.\n",
            "Not survived with: 100.0 % certainty.\n",
            "Not survived with: 100.0 % certainty.\n",
            "Not survived with: 66.66666666666666 % certainty.\n",
            "Not survived with: 100.0 % certainty.\n",
            "Not survived with: 100.0 % certainty.\n",
            "Survived with: 100.0 % certainty.\n",
            "Not survived with: 100.0 % certainty.\n",
            "Not survived with: 71.42857142857143 % certainty.\n",
            "Survived with: 100.0 % certainty.\n",
            "Not survived with: 94.73684210526315 % certainty.\n",
            "Not survived with: 90.0 % certainty.\n",
            "Not survived with: 100.0 % certainty.\n",
            "Not survived with: 100.0 % certainty.\n",
            "Not survived with: 100.0 % certainty.\n",
            "Survived with: 100.0 % certainty.\n",
            "Survived with: 100.0 % certainty.\n",
            "Not survived with: 90.0 % certainty.\n",
            "Not survived with: 100.0 % certainty.\n",
            "Survived with: 100.0 % certainty.\n",
            "Not survived with: 100.0 % certainty.\n",
            "Survived with: 100.0 % certainty.\n",
            "Not survived with: 94.73684210526315 % certainty.\n",
            "Not survived with: 100.0 % certainty.\n",
            "Survived with: 100.0 % certainty.\n",
            "Not survived with: 100.0 % certainty.\n",
            "Survived with: 100.0 % certainty.\n",
            "Not survived with: 100.0 % certainty.\n",
            "Not survived with: 75.0 % certainty.\n",
            "Not survived with: 80.0 % certainty.\n",
            "Not survived with: 100.0 % certainty.\n",
            "Not survived with: 100.0 % certainty.\n",
            "Survived with: 100.0 % certainty.\n",
            "Survived with: 100.0 % certainty.\n",
            "Survived with: 100.0 % certainty.\n",
            "Survived with: 100.0 % certainty.\n",
            "Not survived with: 100.0 % certainty.\n",
            "Not survived with: 87.5 % certainty.\n",
            "Survived with: 100.0 % certainty.\n",
            "Not survived with: 100.0 % certainty.\n",
            "Not survived with: 87.5 % certainty.\n",
            "Survived with: 100.0 % certainty.\n"
          ],
          "name": "stdout"
        }
      ]
    },
    {
      "cell_type": "markdown",
      "metadata": {
        "id": "EBDpVK_7xsd4",
        "colab_type": "text"
      },
      "source": [
        "Just by looking at output data it looks that Decision Tree is overfitted."
      ]
    },
    {
      "cell_type": "code",
      "metadata": {
        "id": "9vwa9v0Ry6SZ",
        "colab_type": "code",
        "outputId": "4b62aa49-3bbe-4ab4-87fe-1f754bb5fabb",
        "colab": {
          "base_uri": "https://localhost:8080/",
          "height": 1000
        }
      },
      "source": [
        "predict_result(random_forest,test_data_num) "
      ],
      "execution_count": 0,
      "outputs": [
        {
          "output_type": "stream",
          "text": [
            "Not survived with: 98.0 % certainty.\n",
            "Not survived with: 81.66666666666666 % certainty.\n",
            "Not survived with: 93.35146797646797 % certainty.\n",
            "Not survived with: 85.16068098568098 % certainty.\n",
            "Not survived with: 58.5 % certainty.\n",
            "Not survived with: 76.39325396825397 % certainty.\n",
            "Survived with: 79.58517316017317 % certainty.\n",
            "Not survived with: 90.5 % certainty.\n",
            "Survived with: 78.65357142857142 % certainty.\n",
            "Not survived with: 80.0 % certainty.\n",
            "Not survived with: 79.36998322626799 % certainty.\n",
            "Survived with: 53.00321810542399 % certainty.\n",
            "Survived with: 99.0 % certainty.\n",
            "Not survived with: 99.41666666666666 % certainty.\n",
            "Survived with: 100.0 % certainty.\n",
            "Survived with: 96.5 % certainty.\n",
            "Not survived with: 85.58333333333333 % certainty.\n",
            "Not survived with: 65.64999999999999 % certainty.\n",
            "Not survived with: 77.7 % certainty.\n",
            "Survived with: 91.0 % certainty.\n",
            "Survived with: 96.0 % certainty.\n",
            "Not survived with: 52.0 % certainty.\n",
            "Survived with: 98.0 % certainty.\n",
            "Survived with: 67.5 % certainty.\n",
            "Survived with: 88.0 % certainty.\n",
            "Not survived with: 98.66666666666666 % certainty.\n",
            "Survived with: 99.0 % certainty.\n",
            "Not survived with: 65.64999999999999 % certainty.\n",
            "Survived with: 53.00321810542399 % certainty.\n",
            "Not survived with: 83.375 % certainty.\n",
            "Not survived with: 99.41666666666666 % certainty.\n",
            "Not survived with: 90.58333333333333 % certainty.\n",
            "Not survived with: 68.33333333333334 % certainty.\n",
            "Survived with: 54.083333333333336 % certainty.\n",
            "Not survived with: 72.0 % certainty.\n",
            "Not survived with: 77.54813797313797 % certainty.\n",
            "Survived with: 70.0 % certainty.\n",
            "Not survived with: 97.16666666666667 % certainty.\n",
            "Not survived with: 85.16068098568098 % certainty.\n",
            "Survived with: 98.0 % certainty.\n",
            "Not survived with: 76.66666666666666 % certainty.\n",
            "Survived with: 77.68333333333334 % certainty.\n",
            "Not survived with: 73.52404009904785 % certainty.\n",
            "Survived with: 100.0 % certainty.\n",
            "Survived with: 98.5 % certainty.\n",
            "Not survived with: 80.23742304295145 % certainty.\n",
            "Not survived with: 52.7 % certainty.\n",
            "Not survived with: 98.0 % certainty.\n",
            "Survived with: 82.13333333333335 % certainty.\n",
            "Not survived with: 72.36666666666666 % certainty.\n",
            "Not survived with: 76.0 % certainty.\n",
            "Not survived with: 74.66666666666667 % certainty.\n",
            "Survived with: 96.0 % certainty.\n",
            "Survived with: 87.0 % certainty.\n",
            "Not survived with: 84.38809523809523 % certainty.\n",
            "Not survived with: 100.0 % certainty.\n",
            "Not survived with: 100.0 % certainty.\n",
            "Not survived with: 80.23742304295145 % certainty.\n",
            "Not survived with: 100.0 % certainty.\n",
            "Survived with: 100.0 % certainty.\n",
            "Not survived with: 100.0 % certainty.\n",
            "Not survived with: 70.66716616716616 % certainty.\n",
            "Not survived with: 100.0 % certainty.\n",
            "Survived with: 50.91785714285712 % certainty.\n",
            "Survived with: 76.0 % certainty.\n",
            "Survived with: 98.35 % certainty.\n",
            "Survived with: 79.27178932178933 % certainty.\n",
            "Not survived with: 100.0 % certainty.\n",
            "Survived with: 88.33333333333333 % certainty.\n",
            "Survived with: 72.5 % certainty.\n",
            "Survived with: 50.91785714285712 % certainty.\n",
            "Not survived with: 93.8264833450925 % certainty.\n",
            "Not survived with: 83.92619047619048 % certainty.\n",
            "Not survived with: 87.66666666666666 % certainty.\n",
            "Survived with: 100.0 % certainty.\n",
            "Not survived with: 75.5 % certainty.\n",
            "Not survived with: 78.28369963369965 % certainty.\n",
            "Survived with: 88.16666666666667 % certainty.\n",
            "Not survived with: 100.0 % certainty.\n",
            "Survived with: 50.91785714285712 % certainty.\n",
            "Survived with: 66.91666666666666 % certainty.\n",
            "Survived with: 53.75 % certainty.\n",
            "Not survived with: 67.36020656759818 % certainty.\n",
            "Not survived with: 93.8264833450925 % certainty.\n",
            "Not survived with: 92.5 % certainty.\n",
            "Not survived with: 80.36666666666667 % certainty.\n",
            "Survived with: 98.79166666666667 % certainty.\n",
            "Not survived with: 66.76428571428572 % certainty.\n",
            "Survived with: 83.79642857142856 % certainty.\n",
            "Survived with: 100.0 % certainty.\n",
            "Not survived with: 91.5 % certainty.\n",
            "Not survived with: 79.36998322626799 % certainty.\n",
            "Survived with: 72.26666666666667 % certainty.\n",
            "Not survived with: 90.30895493395488 % certainty.\n",
            "Survived with: 67.66666666666666 % certainty.\n",
            "Not survived with: 80.23742304295145 % certainty.\n",
            "Survived with: 100.0 % certainty.\n",
            "Not survived with: 100.0 % certainty.\n",
            "Not survived with: 55.186904761904756 % certainty.\n",
            "Not survived with: 90.30895493395488 % certainty.\n",
            "Survived with: 100.0 % certainty.\n",
            "Not survived with: 95.24999999999999 % certainty.\n",
            "Not survived with: 98.0 % certainty.\n",
            "Not survived with: 80.23742304295145 % certainty.\n",
            "Survived with: 61.728571428571435 % certainty.\n",
            "Not survived with: 99.77777777777777 % certainty.\n",
            "Not survived with: 100.0 % certainty.\n",
            "Not survived with: 100.0 % certainty.\n",
            "Not survived with: 78.28369963369965 % certainty.\n",
            "Not survived with: 83.61695526695523 % certainty.\n",
            "Not survived with: 78.48333333333332 % certainty.\n",
            "Survived with: 79.58517316017317 % certainty.\n",
            "Survived with: 93.0 % certainty.\n",
            "Survived with: 79.27178932178933 % certainty.\n",
            "Survived with: 98.0 % certainty.\n",
            "Not survived with: 63.98611111111111 % certainty.\n",
            "Not survived with: 77.54813797313797 % certainty.\n",
            "Survived with: 80.5 % certainty.\n",
            "Not survived with: 86.5 % certainty.\n",
            "Survived with: 98.0 % certainty.\n",
            "Survived with: 91.83333333333333 % certainty.\n",
            "Not survived with: 94.82142857142858 % certainty.\n",
            "Survived with: 100.0 % certainty.\n",
            "Not survived with: 100.0 % certainty.\n",
            "Not survived with: 100.0 % certainty.\n",
            "Survived with: 61.1 % certainty.\n",
            "Not survived with: 93.8264833450925 % certainty.\n",
            "Survived with: 94.0 % certainty.\n",
            "Not survived with: 61.097727272727276 % certainty.\n",
            "Not survived with: 100.0 % certainty.\n",
            "Not survived with: 90.30895493395488 % certainty.\n",
            "Not survived with: 97.19999999999999 % certainty.\n",
            "Not survived with: 60.25 % certainty.\n",
            "Not survived with: 70.9 % certainty.\n",
            "Not survived with: 73.52404009904785 % certainty.\n",
            "Not survived with: 93.8264833450925 % certainty.\n",
            "Not survived with: 96.87857142857143 % certainty.\n",
            "Not survived with: 100.0 % certainty.\n",
            "Not survived with: 97.16666666666667 % certainty.\n",
            "Not survived with: 83.0 % certainty.\n",
            "Not survived with: 97.93333333333334 % certainty.\n",
            "Survived with: 100.0 % certainty.\n",
            "Not survived with: 70.0 % certainty.\n",
            "Not survived with: 97.58333333333334 % certainty.\n",
            "Survived with: 53.00321810542399 % certainty.\n",
            "Not survived with: 87.83333333333333 % certainty.\n",
            "Not survived with: 71.42857142857143 % certainty.\n",
            "Not survived with: 100.0 % certainty.\n",
            "Survived with: 100.0 % certainty.\n",
            "Not survived with: 96.5 % certainty.\n",
            "Survived with: 99.0 % certainty.\n",
            "Not survived with: 65.64999999999999 % certainty.\n",
            "Not survived with: 100.0 % certainty.\n",
            "Not survived with: 61.33333333333333 % certainty.\n",
            "Not survived with: 69.07460317460318 % certainty.\n",
            "Not survived with: 93.8264833450925 % certainty.\n",
            "Survived with: 99.0 % certainty.\n",
            "Survived with: 82.79029581529582 % certainty.\n",
            "Survived with: 53.00321810542399 % certainty.\n",
            "Survived with: 92.66666666666666 % certainty.\n",
            "Survived with: 100.0 % certainty.\n",
            "Survived with: 66.91666666666666 % certainty.\n",
            "Survived with: 63.45952380952381 % certainty.\n",
            "Not survived with: 93.8264833450925 % certainty.\n",
            "Not survived with: 61.097727272727276 % certainty.\n",
            "Not survived with: 57.44285714285715 % certainty.\n",
            "Not survived with: 68.78809523809524 % certainty.\n",
            "Not survived with: 81.0 % certainty.\n",
            "Survived with: 92.0 % certainty.\n",
            "Not survived with: 97.16666666666667 % certainty.\n",
            "Not survived with: 73.52404009904785 % certainty.\n",
            "Not survived with: 96.87857142857143 % certainty.\n",
            "Not survived with: 93.18333333333332 % certainty.\n",
            "Not survived with: 81.64877344877343 % certainty.\n",
            "Not survived with: 98.0 % certainty.\n",
            "Survived with: 100.0 % certainty.\n",
            "Survived with: 98.0 % certainty.\n",
            "Survived with: 96.0 % certainty.\n",
            "Survived with: 93.0 % certainty.\n",
            "Survived with: 92.0 % certainty.\n",
            "Not survived with: 100.0 % certainty.\n",
            "Survived with: 59.0 % certainty.\n",
            "Survived with: 99.0 % certainty.\n",
            "Not survived with: 100.0 % certainty.\n",
            "Survived with: 92.5 % certainty.\n",
            "Not survived with: 99.0 % certainty.\n",
            "Survived with: 99.0 % certainty.\n",
            "Not survived with: 84.76555405378934 % certainty.\n",
            "Not survived with: 93.16666666666666 % certainty.\n",
            "Not survived with: 61.097727272727276 % certainty.\n",
            "Not survived with: 77.47377344877343 % certainty.\n",
            "Not survived with: 90.04166666666667 % certainty.\n",
            "Survived with: 87.66666666666666 % certainty.\n",
            "Not survived with: 93.35146797646797 % certainty.\n",
            "Survived with: 86.0 % certainty.\n",
            "Not survived with: 79.36998322626799 % certainty.\n",
            "Survived with: 87.0 % certainty.\n",
            "Not survived with: 55.186904761904756 % certainty.\n",
            "Not survived with: 99.83333333333334 % certainty.\n",
            "Not survived with: 72.66666666666666 % certainty.\n",
            "Not survived with: 54.0 % certainty.\n",
            "Survived with: 78.41666666666667 % certainty.\n",
            "Not survived with: 79.0 % certainty.\n",
            "Survived with: 99.5 % certainty.\n",
            "Not survived with: 100.0 % certainty.\n",
            "Not survived with: 87.66666666666666 % certainty.\n",
            "Survived with: 77.73333333333333 % certainty.\n",
            "Not survived with: 99.83333333333334 % certainty.\n",
            "Survived with: 93.0 % certainty.\n",
            "Not survived with: 80.23742304295145 % certainty.\n",
            "Not survived with: 95.55555555555554 % certainty.\n",
            "Not survived with: 100.0 % certainty.\n",
            "Not survived with: 97.66666666666666 % certainty.\n",
            "Survived with: 62.838095238095235 % certainty.\n",
            "Not survived with: 51.00714285714285 % certainty.\n",
            "Not survived with: 93.31830065359478 % certainty.\n",
            "Survived with: 100.0 % certainty.\n",
            "Not survived with: 70.0 % certainty.\n",
            "Survived with: 96.0 % certainty.\n",
            "Not survived with: 83.37325380587762 % certainty.\n",
            "Survived with: 92.0 % certainty.\n",
            "Not survived with: 100.0 % certainty.\n",
            "Survived with: 94.41666666666667 % certainty.\n",
            "Not survived with: 93.8264833450925 % certainty.\n",
            "Not survived with: 66.0 % certainty.\n",
            "Not survived with: 59.0 % certainty.\n",
            "Not survived with: 93.8264833450925 % certainty.\n",
            "Survived with: 79.27178932178933 % certainty.\n",
            "Not survived with: 98.04920634920634 % certainty.\n",
            "Not survived with: 98.24642857142857 % certainty.\n",
            "Not survived with: 75.0 % certainty.\n",
            "Survived with: 97.75 % certainty.\n",
            "Not survived with: 86.6609557109557 % certainty.\n",
            "Not survived with: 76.55714285714286 % certainty.\n",
            "Survived with: 67.91666666666667 % certainty.\n",
            "Not survived with: 100.0 % certainty.\n",
            "Survived with: 96.0 % certainty.\n",
            "Not survived with: 77.54813797313797 % certainty.\n",
            "Survived with: 82.0 % certainty.\n",
            "Survived with: 92.0 % certainty.\n",
            "Not survived with: 66.0 % certainty.\n",
            "Survived with: 94.0 % certainty.\n",
            "Not survived with: 69.75 % certainty.\n",
            "Not survived with: 93.8264833450925 % certainty.\n",
            "Not survived with: 90.0 % certainty.\n",
            "Not survived with: 72.06865079365076 % certainty.\n",
            "Survived with: 93.58333333333333 % certainty.\n",
            "Not survived with: 85.5 % certainty.\n",
            "Survived with: 98.0 % certainty.\n",
            "Not survived with: 88.6 % certainty.\n",
            "Survived with: 98.0 % certainty.\n",
            "Not survived with: 100.0 % certainty.\n",
            "Not survived with: 54.58333333333333 % certainty.\n",
            "Not survived with: 100.0 % certainty.\n",
            "Not survived with: 90.30895493395488 % certainty.\n",
            "Not survived with: 100.0 % certainty.\n",
            "Not survived with: 52.37380952380954 % certainty.\n",
            "Not survived with: 83.37325380587762 % certainty.\n",
            "Survived with: 93.08333333333334 % certainty.\n",
            "Not survived with: 93.8264833450925 % certainty.\n",
            "Not survived with: 99.8 % certainty.\n",
            "Not survived with: 93.8264833450925 % certainty.\n",
            "Survived with: 97.5 % certainty.\n",
            "Survived with: 80.5 % certainty.\n",
            "Not survived with: 82.5357142857143 % certainty.\n",
            "Not survived with: 93.8264833450925 % certainty.\n",
            "Not survived with: 98.34513457556935 % certainty.\n",
            "Not survived with: 79.36998322626799 % certainty.\n",
            "Survived with: 70.0 % certainty.\n",
            "Not survived with: 89.83290340438336 % certainty.\n",
            "Not survived with: 96.0 % certainty.\n",
            "Not survived with: 100.0 % certainty.\n",
            "Survived with: 97.0 % certainty.\n",
            "Survived with: 88.33333333333333 % certainty.\n",
            "Not survived with: 77.54813797313797 % certainty.\n",
            "Survived with: 85.68333333333332 % certainty.\n",
            "Not survived with: 100.0 % certainty.\n",
            "Not survived with: 99.41666666666666 % certainty.\n",
            "Not survived with: 97.64999999999999 % certainty.\n",
            "Not survived with: 99.83333333333334 % certainty.\n",
            "Not survived with: 97.16666666666667 % certainty.\n",
            "Survived with: 87.66666666666666 % certainty.\n",
            "Survived with: 77.73333333333333 % certainty.\n",
            "Not survived with: 65.33333333333334 % certainty.\n",
            "Survived with: 80.5 % certainty.\n",
            "Not survived with: 100.0 % certainty.\n",
            "Not survived with: 73.52404009904785 % certainty.\n",
            "Not survived with: 76.0 % certainty.\n",
            "Not survived with: 77.54813797313797 % certainty.\n",
            "Not survived with: 83.37325380587762 % certainty.\n",
            "Not survived with: 79.62261904761907 % certainty.\n",
            "Survived with: 79.58517316017317 % certainty.\n",
            "Not survived with: 77.54813797313797 % certainty.\n",
            "Not survived with: 93.33333333333333 % certainty.\n",
            "Not survived with: 100.0 % certainty.\n",
            "Not survived with: 80.23742304295145 % certainty.\n",
            "Survived with: 99.0 % certainty.\n",
            "Not survived with: 73.1 % certainty.\n",
            "Not survived with: 67.12738095238096 % certainty.\n",
            "Not survived with: 100.0 % certainty.\n",
            "Not survived with: 79.36998322626799 % certainty.\n",
            "Not survived with: 84.38809523809523 % certainty.\n",
            "Not survived with: 97.0 % certainty.\n",
            "Not survived with: 100.0 % certainty.\n",
            "Survived with: 83.79642857142856 % certainty.\n",
            "Survived with: 98.0 % certainty.\n",
            "Survived with: 67.33333333333334 % certainty.\n",
            "Survived with: 83.45 % certainty.\n",
            "Not survived with: 93.33333333333333 % certainty.\n",
            "Not survived with: 89.5 % certainty.\n",
            "Not survived with: 89.83290340438336 % certainty.\n",
            "Not survived with: 65.64999999999999 % certainty.\n",
            "Not survived with: 73.52404009904785 % certainty.\n",
            "Survived with: 77.73333333333333 % certainty.\n",
            "Survived with: 93.80000000000001 % certainty.\n",
            "Survived with: 79.27178932178933 % certainty.\n",
            "Not survived with: 79.0 % certainty.\n",
            "Not survived with: 83.61695526695523 % certainty.\n",
            "Not survived with: 80.23742304295145 % certainty.\n",
            "Not survived with: 90.58333333333333 % certainty.\n",
            "Not survived with: 80.23742304295145 % certainty.\n",
            "Not survived with: 96.87857142857143 % certainty.\n",
            "Not survived with: 100.0 % certainty.\n",
            "Survived with: 77.68333333333334 % certainty.\n",
            "Survived with: 99.0 % certainty.\n",
            "Not survived with: 93.8264833450925 % certainty.\n",
            "Survived with: 100.0 % certainty.\n",
            "Not survived with: 96.0 % certainty.\n",
            "Not survived with: 97.64999999999999 % certainty.\n",
            "Not survived with: 99.83333333333334 % certainty.\n",
            "Survived with: 98.0 % certainty.\n",
            "Not survived with: 52.7 % certainty.\n",
            "Not survived with: 66.89761904761902 % certainty.\n",
            "Not survived with: 58.14285714285714 % certainty.\n",
            "Not survived with: 80.23742304295145 % certainty.\n",
            "Survived with: 50.109523809523814 % certainty.\n",
            "Not survived with: 70.66716616716616 % certainty.\n",
            "Not survived with: 90.05 % certainty.\n",
            "Not survived with: 97.5 % certainty.\n",
            "Not survived with: 81.64877344877343 % certainty.\n",
            "Not survived with: 83.61695526695523 % certainty.\n",
            "Not survived with: 79.36998322626799 % certainty.\n",
            "Not survived with: 79.16666666666667 % certainty.\n",
            "Survived with: 97.0 % certainty.\n",
            "Not survived with: 96.88888888888889 % certainty.\n",
            "Not survived with: 77.325 % certainty.\n",
            "Not survived with: 100.0 % certainty.\n",
            "Survived with: 74.76666666666667 % certainty.\n",
            "Not survived with: 99.83333333333334 % certainty.\n",
            "Survived with: 99.0 % certainty.\n",
            "Survived with: 97.0 % certainty.\n",
            "Not survived with: 100.0 % certainty.\n",
            "Not survived with: 97.66666666666666 % certainty.\n",
            "Not survived with: 93.0 % certainty.\n",
            "Survived with: 55.333333333333336 % certainty.\n",
            "Not survived with: 67.36020656759818 % certainty.\n",
            "Survived with: 100.0 % certainty.\n",
            "Not survived with: 73.52404009904785 % certainty.\n",
            "Not survived with: 100.0 % certainty.\n",
            "Survived with: 75.11904761904762 % certainty.\n",
            "Not survived with: 100.0 % certainty.\n",
            "Survived with: 97.0 % certainty.\n",
            "Survived with: 99.0 % certainty.\n",
            "Not survived with: 85.16068098568098 % certainty.\n",
            "Survived with: 100.0 % certainty.\n",
            "Not survived with: 79.66666666666667 % certainty.\n",
            "Not survived with: 98.375 % certainty.\n",
            "Not survived with: 55.00000000000001 % certainty.\n",
            "Survived with: 97.0 % certainty.\n",
            "Not survived with: 82.5357142857143 % certainty.\n",
            "Not survived with: 99.33333333333334 % certainty.\n",
            "Survived with: 100.0 % certainty.\n",
            "Not survived with: 95.03682983682985 % certainty.\n",
            "Not survived with: 61.097727272727276 % certainty.\n",
            "Survived with: 100.0 % certainty.\n",
            "Survived with: 99.0 % certainty.\n",
            "Not survived with: 91.5 % certainty.\n",
            "Not survived with: 99.83333333333334 % certainty.\n",
            "Not survived with: 100.0 % certainty.\n",
            "Not survived with: 69.07460317460318 % certainty.\n",
            "Not survived with: 100.0 % certainty.\n",
            "Not survived with: 100.0 % certainty.\n",
            "Survived with: 80.53333333333333 % certainty.\n",
            "Not survived with: 72.58333333333333 % certainty.\n",
            "Not survived with: 70.66716616716616 % certainty.\n",
            "Survived with: 92.66666666666667 % certainty.\n",
            "Not survived with: 93.8264833450925 % certainty.\n",
            "Not survived with: 90.14498377439547 % certainty.\n",
            "Not survived with: 100.0 % certainty.\n",
            "Not survived with: 96.06666666666668 % certainty.\n",
            "Not survived with: 92.76190476190476 % certainty.\n",
            "Survived with: 96.0 % certainty.\n",
            "Survived with: 83.66666666666667 % certainty.\n",
            "Not survived with: 90.14498377439547 % certainty.\n",
            "Not survived with: 100.0 % certainty.\n",
            "Survived with: 99.0 % certainty.\n",
            "Not survived with: 100.0 % certainty.\n",
            "Survived with: 100.0 % certainty.\n",
            "Not survived with: 93.8264833450925 % certainty.\n",
            "Not survived with: 98.0 % certainty.\n",
            "Survived with: 99.0 % certainty.\n",
            "Not survived with: 94.80238095238093 % certainty.\n",
            "Survived with: 99.0 % certainty.\n",
            "Not survived with: 96.76190476190476 % certainty.\n",
            "Survived with: 62.41666666666668 % certainty.\n",
            "Not survived with: 70.49083694083694 % certainty.\n",
            "Not survived with: 99.33333333333334 % certainty.\n",
            "Not survived with: 83.0 % certainty.\n",
            "Survived with: 83.79642857142856 % certainty.\n",
            "Survived with: 80.5 % certainty.\n",
            "Survived with: 100.0 % certainty.\n",
            "Survived with: 99.0 % certainty.\n",
            "Not survived with: 83.92619047619048 % certainty.\n",
            "Not survived with: 90.30895493395488 % certainty.\n",
            "Survived with: 99.0 % certainty.\n",
            "Not survived with: 100.0 % certainty.\n",
            "Not survived with: 90.30895493395488 % certainty.\n",
            "Survived with: 73.0 % certainty.\n"
          ],
          "name": "stdout"
        }
      ]
    },
    {
      "cell_type": "markdown",
      "metadata": {
        "id": "UC0diHeczGTW",
        "colab_type": "text"
      },
      "source": [
        "While output given by Random Forest model over test sample is less binary, and therefore this one will be taken as a point of reference in further discussion.\n",
        "\n",
        "Having close Score does not mean that results will be converging to some true value, taking for example KNN model - the 3'rd highest Score, it shows oposite values for 2 out of 4 outputs. While Logistic Regression and Stochastic Gradient Descent differs only in first result with very low certainty. \n",
        " \n",
        "As for Naive Bayes Gaussian model it seems like it went completely different path of classification, having also poor Score in comparison to others. "
      ]
    }
  ]
}